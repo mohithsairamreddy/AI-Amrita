{
  "nbformat": 4,
  "nbformat_minor": 0,
  "metadata": {
    "colab": {
      "name": "PandasTutorial.ipynb",
      "provenance": [],
      "authorship_tag": "ABX9TyPtKjvtMXQdzs6QHLSU3iXl",
      "include_colab_link": true
    },
    "kernelspec": {
      "name": "python3",
      "display_name": "Python 3"
    },
    "language_info": {
      "name": "python"
    }
  },
  "cells": [
    {
      "cell_type": "markdown",
      "metadata": {
        "id": "view-in-github",
        "colab_type": "text"
      },
      "source": [
        "<a href=\"https://colab.research.google.com/github/mohithsairamreddy/AI-Amrita/blob/master/PandasTutorial.ipynb\" target=\"_parent\"><img src=\"https://colab.research.google.com/assets/colab-badge.svg\" alt=\"Open In Colab\"/></a>"
      ]
    },
    {
      "cell_type": "code",
      "metadata": {
        "id": "5nv4uaCLJcIh"
      },
      "source": [
        "import pandas as pd"
      ],
      "execution_count": null,
      "outputs": []
    },
    {
      "cell_type": "code",
      "metadata": {
        "colab": {
          "base_uri": "https://localhost:8080/"
        },
        "id": "0DQV6AWLLD1U",
        "outputId": "90c92971-692c-40f5-9d2e-ff0fcdc8eae8"
      },
      "source": [
        "from google.colab import drive\n",
        "drive.mount('/content/mdrive')"
      ],
      "execution_count": 52,
      "outputs": [
        {
          "output_type": "stream",
          "text": [
            "Drive already mounted at /content/mdrive; to attempt to forcibly remount, call drive.mount(\"/content/mdrive\", force_remount=True).\n"
          ],
          "name": "stdout"
        }
      ]
    },
    {
      "cell_type": "code",
      "metadata": {
        "id": "znDgIyziLSXT"
      },
      "source": [
        "DatasetBaseFolder = '/content/mdrive/MyDrive/ColabNotebooks/PandasT1/Datasets/'"
      ],
      "execution_count": 53,
      "outputs": []
    },
    {
      "cell_type": "code",
      "metadata": {
        "id": "XI9-wU12LUcr"
      },
      "source": [
        "movies_df = pd.read_csv(DatasetBaseFolder+\"IMDB-Movie-Data.csv\", index_col=\"Title\")"
      ],
      "execution_count": 54,
      "outputs": []
    },
    {
      "cell_type": "markdown",
      "metadata": {
        "id": "m_Ldhu88Pv_q"
      },
      "source": [
        ""
      ]
    },
    {
      "cell_type": "markdown",
      "metadata": {
        "id": "JKftagbmP1iY"
      },
      "source": [
        "To Get Top 10 Elements"
      ]
    },
    {
      "cell_type": "code",
      "metadata": {
        "colab": {
          "base_uri": "https://localhost:8080/",
          "height": 390
        },
        "id": "uPrP3yjBP7Qc",
        "outputId": "2ee8bc63-6455-4e17-f12f-e79dda556a87"
      },
      "source": [
        "movies_df.head(10)"
      ],
      "execution_count": 55,
      "outputs": [
        {
          "output_type": "execute_result",
          "data": {
            "text/html": [
              "<div>\n",
              "<style scoped>\n",
              "    .dataframe tbody tr th:only-of-type {\n",
              "        vertical-align: middle;\n",
              "    }\n",
              "\n",
              "    .dataframe tbody tr th {\n",
              "        vertical-align: top;\n",
              "    }\n",
              "\n",
              "    .dataframe thead th {\n",
              "        text-align: right;\n",
              "    }\n",
              "</style>\n",
              "<table border=\"1\" class=\"dataframe\">\n",
              "  <thead>\n",
              "    <tr style=\"text-align: right;\">\n",
              "      <th></th>\n",
              "      <th>Rank</th>\n",
              "      <th>Genre</th>\n",
              "      <th>Description</th>\n",
              "      <th>Director</th>\n",
              "      <th>Actors</th>\n",
              "      <th>Year</th>\n",
              "      <th>Runtime (Minutes)</th>\n",
              "      <th>Rating</th>\n",
              "      <th>Votes</th>\n",
              "      <th>Revenue (Millions)</th>\n",
              "      <th>Metascore</th>\n",
              "    </tr>\n",
              "    <tr>\n",
              "      <th>Title</th>\n",
              "      <th></th>\n",
              "      <th></th>\n",
              "      <th></th>\n",
              "      <th></th>\n",
              "      <th></th>\n",
              "      <th></th>\n",
              "      <th></th>\n",
              "      <th></th>\n",
              "      <th></th>\n",
              "      <th></th>\n",
              "      <th></th>\n",
              "    </tr>\n",
              "  </thead>\n",
              "  <tbody>\n",
              "    <tr>\n",
              "      <th>Guardians of the Galaxy</th>\n",
              "      <td>1</td>\n",
              "      <td>Action,Adventure,Sci-Fi</td>\n",
              "      <td>A group of intergalactic criminals are forced ...</td>\n",
              "      <td>James Gunn</td>\n",
              "      <td>Chris Pratt, Vin Diesel, Bradley Cooper, Zoe S...</td>\n",
              "      <td>2014</td>\n",
              "      <td>121</td>\n",
              "      <td>8.1</td>\n",
              "      <td>757074</td>\n",
              "      <td>333.13</td>\n",
              "      <td>76.0</td>\n",
              "    </tr>\n",
              "    <tr>\n",
              "      <th>Prometheus</th>\n",
              "      <td>2</td>\n",
              "      <td>Adventure,Mystery,Sci-Fi</td>\n",
              "      <td>Following clues to the origin of mankind, a te...</td>\n",
              "      <td>Ridley Scott</td>\n",
              "      <td>Noomi Rapace, Logan Marshall-Green, Michael Fa...</td>\n",
              "      <td>2012</td>\n",
              "      <td>124</td>\n",
              "      <td>7.0</td>\n",
              "      <td>485820</td>\n",
              "      <td>126.46</td>\n",
              "      <td>65.0</td>\n",
              "    </tr>\n",
              "    <tr>\n",
              "      <th>Split</th>\n",
              "      <td>3</td>\n",
              "      <td>Horror,Thriller</td>\n",
              "      <td>Three girls are kidnapped by a man with a diag...</td>\n",
              "      <td>M. Night Shyamalan</td>\n",
              "      <td>James McAvoy, Anya Taylor-Joy, Haley Lu Richar...</td>\n",
              "      <td>2016</td>\n",
              "      <td>117</td>\n",
              "      <td>7.3</td>\n",
              "      <td>157606</td>\n",
              "      <td>138.12</td>\n",
              "      <td>62.0</td>\n",
              "    </tr>\n",
              "    <tr>\n",
              "      <th>Sing</th>\n",
              "      <td>4</td>\n",
              "      <td>Animation,Comedy,Family</td>\n",
              "      <td>In a city of humanoid animals, a hustling thea...</td>\n",
              "      <td>Christophe Lourdelet</td>\n",
              "      <td>Matthew McConaughey,Reese Witherspoon, Seth Ma...</td>\n",
              "      <td>2016</td>\n",
              "      <td>108</td>\n",
              "      <td>7.2</td>\n",
              "      <td>60545</td>\n",
              "      <td>270.32</td>\n",
              "      <td>59.0</td>\n",
              "    </tr>\n",
              "    <tr>\n",
              "      <th>Suicide Squad</th>\n",
              "      <td>5</td>\n",
              "      <td>Action,Adventure,Fantasy</td>\n",
              "      <td>A secret government agency recruits some of th...</td>\n",
              "      <td>David Ayer</td>\n",
              "      <td>Will Smith, Jared Leto, Margot Robbie, Viola D...</td>\n",
              "      <td>2016</td>\n",
              "      <td>123</td>\n",
              "      <td>6.2</td>\n",
              "      <td>393727</td>\n",
              "      <td>325.02</td>\n",
              "      <td>40.0</td>\n",
              "    </tr>\n",
              "    <tr>\n",
              "      <th>The Great Wall</th>\n",
              "      <td>6</td>\n",
              "      <td>Action,Adventure,Fantasy</td>\n",
              "      <td>European mercenaries searching for black powde...</td>\n",
              "      <td>Yimou Zhang</td>\n",
              "      <td>Matt Damon, Tian Jing, Willem Dafoe, Andy Lau</td>\n",
              "      <td>2016</td>\n",
              "      <td>103</td>\n",
              "      <td>6.1</td>\n",
              "      <td>56036</td>\n",
              "      <td>45.13</td>\n",
              "      <td>42.0</td>\n",
              "    </tr>\n",
              "    <tr>\n",
              "      <th>La La Land</th>\n",
              "      <td>7</td>\n",
              "      <td>Comedy,Drama,Music</td>\n",
              "      <td>A jazz pianist falls for an aspiring actress i...</td>\n",
              "      <td>Damien Chazelle</td>\n",
              "      <td>Ryan Gosling, Emma Stone, Rosemarie DeWitt, J....</td>\n",
              "      <td>2016</td>\n",
              "      <td>128</td>\n",
              "      <td>8.3</td>\n",
              "      <td>258682</td>\n",
              "      <td>151.06</td>\n",
              "      <td>93.0</td>\n",
              "    </tr>\n",
              "    <tr>\n",
              "      <th>Mindhorn</th>\n",
              "      <td>8</td>\n",
              "      <td>Comedy</td>\n",
              "      <td>A has-been actor best known for playing the ti...</td>\n",
              "      <td>Sean Foley</td>\n",
              "      <td>Essie Davis, Andrea Riseborough, Julian Barrat...</td>\n",
              "      <td>2016</td>\n",
              "      <td>89</td>\n",
              "      <td>6.4</td>\n",
              "      <td>2490</td>\n",
              "      <td>NaN</td>\n",
              "      <td>71.0</td>\n",
              "    </tr>\n",
              "    <tr>\n",
              "      <th>The Lost City of Z</th>\n",
              "      <td>9</td>\n",
              "      <td>Action,Adventure,Biography</td>\n",
              "      <td>A true-life drama, centering on British explor...</td>\n",
              "      <td>James Gray</td>\n",
              "      <td>Charlie Hunnam, Robert Pattinson, Sienna Mille...</td>\n",
              "      <td>2016</td>\n",
              "      <td>141</td>\n",
              "      <td>7.1</td>\n",
              "      <td>7188</td>\n",
              "      <td>8.01</td>\n",
              "      <td>78.0</td>\n",
              "    </tr>\n",
              "    <tr>\n",
              "      <th>Passengers</th>\n",
              "      <td>10</td>\n",
              "      <td>Adventure,Drama,Romance</td>\n",
              "      <td>A spacecraft traveling to a distant colony pla...</td>\n",
              "      <td>Morten Tyldum</td>\n",
              "      <td>Jennifer Lawrence, Chris Pratt, Michael Sheen,...</td>\n",
              "      <td>2016</td>\n",
              "      <td>116</td>\n",
              "      <td>7.0</td>\n",
              "      <td>192177</td>\n",
              "      <td>100.01</td>\n",
              "      <td>41.0</td>\n",
              "    </tr>\n",
              "  </tbody>\n",
              "</table>\n",
              "</div>"
            ],
            "text/plain": [
              "                         Rank  ... Metascore\n",
              "Title                          ...          \n",
              "Guardians of the Galaxy     1  ...      76.0\n",
              "Prometheus                  2  ...      65.0\n",
              "Split                       3  ...      62.0\n",
              "Sing                        4  ...      59.0\n",
              "Suicide Squad               5  ...      40.0\n",
              "The Great Wall              6  ...      42.0\n",
              "La La Land                  7  ...      93.0\n",
              "Mindhorn                    8  ...      71.0\n",
              "The Lost City of Z          9  ...      78.0\n",
              "Passengers                 10  ...      41.0\n",
              "\n",
              "[10 rows x 11 columns]"
            ]
          },
          "metadata": {
            "tags": []
          },
          "execution_count": 55
        }
      ]
    },
    {
      "cell_type": "markdown",
      "metadata": {
        "id": "Kk6udQeSQD97"
      },
      "source": [
        "To Get Last 10 Elements"
      ]
    },
    {
      "cell_type": "code",
      "metadata": {
        "colab": {
          "base_uri": "https://localhost:8080/",
          "height": 492
        },
        "id": "uq0W5xe9QJd9",
        "outputId": "f473029b-a229-4069-d159-44b0f3aec7aa"
      },
      "source": [
        "movies_df .tail(10)"
      ],
      "execution_count": null,
      "outputs": [
        {
          "output_type": "execute_result",
          "data": {
            "text/html": [
              "<div>\n",
              "<style scoped>\n",
              "    .dataframe tbody tr th:only-of-type {\n",
              "        vertical-align: middle;\n",
              "    }\n",
              "\n",
              "    .dataframe tbody tr th {\n",
              "        vertical-align: top;\n",
              "    }\n",
              "\n",
              "    .dataframe thead th {\n",
              "        text-align: right;\n",
              "    }\n",
              "</style>\n",
              "<table border=\"1\" class=\"dataframe\">\n",
              "  <thead>\n",
              "    <tr style=\"text-align: right;\">\n",
              "      <th></th>\n",
              "      <th>Rank</th>\n",
              "      <th>Genre</th>\n",
              "      <th>Description</th>\n",
              "      <th>Director</th>\n",
              "      <th>Actors</th>\n",
              "      <th>Year</th>\n",
              "      <th>Runtime (Minutes)</th>\n",
              "      <th>Rating</th>\n",
              "      <th>Votes</th>\n",
              "      <th>Revenue (Millions)</th>\n",
              "      <th>Metascore</th>\n",
              "    </tr>\n",
              "    <tr>\n",
              "      <th>Title</th>\n",
              "      <th></th>\n",
              "      <th></th>\n",
              "      <th></th>\n",
              "      <th></th>\n",
              "      <th></th>\n",
              "      <th></th>\n",
              "      <th></th>\n",
              "      <th></th>\n",
              "      <th></th>\n",
              "      <th></th>\n",
              "      <th></th>\n",
              "    </tr>\n",
              "  </thead>\n",
              "  <tbody>\n",
              "    <tr>\n",
              "      <th>Underworld: Rise of the Lycans</th>\n",
              "      <td>991</td>\n",
              "      <td>Action,Adventure,Fantasy</td>\n",
              "      <td>An origins story centered on the centuries-old...</td>\n",
              "      <td>Patrick Tatopoulos</td>\n",
              "      <td>Rhona Mitra, Michael Sheen, Bill Nighy, Steven...</td>\n",
              "      <td>2009</td>\n",
              "      <td>92</td>\n",
              "      <td>6.6</td>\n",
              "      <td>129708</td>\n",
              "      <td>45.80</td>\n",
              "      <td>44.0</td>\n",
              "    </tr>\n",
              "    <tr>\n",
              "      <th>Taare Zameen Par</th>\n",
              "      <td>992</td>\n",
              "      <td>Drama,Family,Music</td>\n",
              "      <td>An eight-year-old boy is thought to be a lazy ...</td>\n",
              "      <td>Aamir Khan</td>\n",
              "      <td>Darsheel Safary, Aamir Khan, Tanay Chheda, Sac...</td>\n",
              "      <td>2007</td>\n",
              "      <td>165</td>\n",
              "      <td>8.5</td>\n",
              "      <td>102697</td>\n",
              "      <td>1.20</td>\n",
              "      <td>42.0</td>\n",
              "    </tr>\n",
              "    <tr>\n",
              "      <th>Take Me Home Tonight</th>\n",
              "      <td>993</td>\n",
              "      <td>Comedy,Drama,Romance</td>\n",
              "      <td>Four years after graduation, an awkward high s...</td>\n",
              "      <td>Michael Dowse</td>\n",
              "      <td>Topher Grace, Anna Faris, Dan Fogler, Teresa P...</td>\n",
              "      <td>2011</td>\n",
              "      <td>97</td>\n",
              "      <td>6.3</td>\n",
              "      <td>45419</td>\n",
              "      <td>6.92</td>\n",
              "      <td>NaN</td>\n",
              "    </tr>\n",
              "    <tr>\n",
              "      <th>Resident Evil: Afterlife</th>\n",
              "      <td>994</td>\n",
              "      <td>Action,Adventure,Horror</td>\n",
              "      <td>While still out to destroy the evil Umbrella C...</td>\n",
              "      <td>Paul W.S. Anderson</td>\n",
              "      <td>Milla Jovovich, Ali Larter, Wentworth Miller,K...</td>\n",
              "      <td>2010</td>\n",
              "      <td>97</td>\n",
              "      <td>5.9</td>\n",
              "      <td>140900</td>\n",
              "      <td>60.13</td>\n",
              "      <td>37.0</td>\n",
              "    </tr>\n",
              "    <tr>\n",
              "      <th>Project X</th>\n",
              "      <td>995</td>\n",
              "      <td>Comedy</td>\n",
              "      <td>3 high school seniors throw a birthday party t...</td>\n",
              "      <td>Nima Nourizadeh</td>\n",
              "      <td>Thomas Mann, Oliver Cooper, Jonathan Daniel Br...</td>\n",
              "      <td>2012</td>\n",
              "      <td>88</td>\n",
              "      <td>6.7</td>\n",
              "      <td>164088</td>\n",
              "      <td>54.72</td>\n",
              "      <td>48.0</td>\n",
              "    </tr>\n",
              "    <tr>\n",
              "      <th>Secret in Their Eyes</th>\n",
              "      <td>996</td>\n",
              "      <td>Crime,Drama,Mystery</td>\n",
              "      <td>A tight-knit team of rising investigators, alo...</td>\n",
              "      <td>Billy Ray</td>\n",
              "      <td>Chiwetel Ejiofor, Nicole Kidman, Julia Roberts...</td>\n",
              "      <td>2015</td>\n",
              "      <td>111</td>\n",
              "      <td>6.2</td>\n",
              "      <td>27585</td>\n",
              "      <td>NaN</td>\n",
              "      <td>45.0</td>\n",
              "    </tr>\n",
              "    <tr>\n",
              "      <th>Hostel: Part II</th>\n",
              "      <td>997</td>\n",
              "      <td>Horror</td>\n",
              "      <td>Three American college students studying abroa...</td>\n",
              "      <td>Eli Roth</td>\n",
              "      <td>Lauren German, Heather Matarazzo, Bijou Philli...</td>\n",
              "      <td>2007</td>\n",
              "      <td>94</td>\n",
              "      <td>5.5</td>\n",
              "      <td>73152</td>\n",
              "      <td>17.54</td>\n",
              "      <td>46.0</td>\n",
              "    </tr>\n",
              "    <tr>\n",
              "      <th>Step Up 2: The Streets</th>\n",
              "      <td>998</td>\n",
              "      <td>Drama,Music,Romance</td>\n",
              "      <td>Romantic sparks occur between two dance studen...</td>\n",
              "      <td>Jon M. Chu</td>\n",
              "      <td>Robert Hoffman, Briana Evigan, Cassie Ventura,...</td>\n",
              "      <td>2008</td>\n",
              "      <td>98</td>\n",
              "      <td>6.2</td>\n",
              "      <td>70699</td>\n",
              "      <td>58.01</td>\n",
              "      <td>50.0</td>\n",
              "    </tr>\n",
              "    <tr>\n",
              "      <th>Search Party</th>\n",
              "      <td>999</td>\n",
              "      <td>Adventure,Comedy</td>\n",
              "      <td>A pair of friends embark on a mission to reuni...</td>\n",
              "      <td>Scot Armstrong</td>\n",
              "      <td>Adam Pally, T.J. Miller, Thomas Middleditch,Sh...</td>\n",
              "      <td>2014</td>\n",
              "      <td>93</td>\n",
              "      <td>5.6</td>\n",
              "      <td>4881</td>\n",
              "      <td>NaN</td>\n",
              "      <td>22.0</td>\n",
              "    </tr>\n",
              "    <tr>\n",
              "      <th>Nine Lives</th>\n",
              "      <td>1000</td>\n",
              "      <td>Comedy,Family,Fantasy</td>\n",
              "      <td>A stuffy businessman finds himself trapped ins...</td>\n",
              "      <td>Barry Sonnenfeld</td>\n",
              "      <td>Kevin Spacey, Jennifer Garner, Robbie Amell,Ch...</td>\n",
              "      <td>2016</td>\n",
              "      <td>87</td>\n",
              "      <td>5.3</td>\n",
              "      <td>12435</td>\n",
              "      <td>19.64</td>\n",
              "      <td>11.0</td>\n",
              "    </tr>\n",
              "  </tbody>\n",
              "</table>\n",
              "</div>"
            ],
            "text/plain": [
              "                                Rank  ... Metascore\n",
              "Title                                 ...          \n",
              "Underworld: Rise of the Lycans   991  ...      44.0\n",
              "Taare Zameen Par                 992  ...      42.0\n",
              "Take Me Home Tonight             993  ...       NaN\n",
              "Resident Evil: Afterlife         994  ...      37.0\n",
              "Project X                        995  ...      48.0\n",
              "Secret in Their Eyes             996  ...      45.0\n",
              "Hostel: Part II                  997  ...      46.0\n",
              "Step Up 2: The Streets           998  ...      50.0\n",
              "Search Party                     999  ...      22.0\n",
              "Nine Lives                      1000  ...      11.0\n",
              "\n",
              "[10 rows x 11 columns]"
            ]
          },
          "metadata": {
            "tags": []
          },
          "execution_count": 34
        }
      ]
    },
    {
      "cell_type": "markdown",
      "metadata": {
        "id": "bs2G18ZKQNeT"
      },
      "source": [
        "Number of Rows and Columns"
      ]
    },
    {
      "cell_type": "code",
      "metadata": {
        "colab": {
          "base_uri": "https://localhost:8080/"
        },
        "id": "jeY94GgJQVsE",
        "outputId": "aba7b7c9-d3ea-4fd1-8d6d-c91b02aac99e"
      },
      "source": [
        "movies_df.shape"
      ],
      "execution_count": 56,
      "outputs": [
        {
          "output_type": "execute_result",
          "data": {
            "text/plain": [
              "(1000, 11)"
            ]
          },
          "metadata": {
            "tags": []
          },
          "execution_count": 56
        }
      ]
    },
    {
      "cell_type": "code",
      "metadata": {
        "colab": {
          "base_uri": "https://localhost:8080/",
          "height": 450
        },
        "id": "3xhdOpxOS30N",
        "outputId": "8f66db2e-e912-4972-918c-a8d9b64c8813"
      },
      "source": [
        "movies_df"
      ],
      "execution_count": 60,
      "outputs": [
        {
          "output_type": "execute_result",
          "data": {
            "text/html": [
              "<div>\n",
              "<style scoped>\n",
              "    .dataframe tbody tr th:only-of-type {\n",
              "        vertical-align: middle;\n",
              "    }\n",
              "\n",
              "    .dataframe tbody tr th {\n",
              "        vertical-align: top;\n",
              "    }\n",
              "\n",
              "    .dataframe thead th {\n",
              "        text-align: right;\n",
              "    }\n",
              "</style>\n",
              "<table border=\"1\" class=\"dataframe\">\n",
              "  <thead>\n",
              "    <tr style=\"text-align: right;\">\n",
              "      <th></th>\n",
              "      <th>Rank</th>\n",
              "      <th>Genre</th>\n",
              "      <th>Description</th>\n",
              "      <th>Director</th>\n",
              "      <th>Actors</th>\n",
              "      <th>Year</th>\n",
              "      <th>Runtime (Minutes)</th>\n",
              "      <th>Rating</th>\n",
              "      <th>Votes</th>\n",
              "      <th>Revenue (Millions)</th>\n",
              "      <th>Metascore</th>\n",
              "    </tr>\n",
              "    <tr>\n",
              "      <th>Title</th>\n",
              "      <th></th>\n",
              "      <th></th>\n",
              "      <th></th>\n",
              "      <th></th>\n",
              "      <th></th>\n",
              "      <th></th>\n",
              "      <th></th>\n",
              "      <th></th>\n",
              "      <th></th>\n",
              "      <th></th>\n",
              "      <th></th>\n",
              "    </tr>\n",
              "  </thead>\n",
              "  <tbody>\n",
              "    <tr>\n",
              "      <th>Guardians of the Galaxy</th>\n",
              "      <td>1</td>\n",
              "      <td>Action,Adventure,Sci-Fi</td>\n",
              "      <td>A group of intergalactic criminals are forced ...</td>\n",
              "      <td>James Gunn</td>\n",
              "      <td>Chris Pratt, Vin Diesel, Bradley Cooper, Zoe S...</td>\n",
              "      <td>2014</td>\n",
              "      <td>121</td>\n",
              "      <td>8.1</td>\n",
              "      <td>757074</td>\n",
              "      <td>333.13</td>\n",
              "      <td>76.0</td>\n",
              "    </tr>\n",
              "    <tr>\n",
              "      <th>Prometheus</th>\n",
              "      <td>2</td>\n",
              "      <td>Adventure,Mystery,Sci-Fi</td>\n",
              "      <td>Following clues to the origin of mankind, a te...</td>\n",
              "      <td>Ridley Scott</td>\n",
              "      <td>Noomi Rapace, Logan Marshall-Green, Michael Fa...</td>\n",
              "      <td>2012</td>\n",
              "      <td>124</td>\n",
              "      <td>7.0</td>\n",
              "      <td>485820</td>\n",
              "      <td>126.46</td>\n",
              "      <td>65.0</td>\n",
              "    </tr>\n",
              "    <tr>\n",
              "      <th>Split</th>\n",
              "      <td>3</td>\n",
              "      <td>Horror,Thriller</td>\n",
              "      <td>Three girls are kidnapped by a man with a diag...</td>\n",
              "      <td>M. Night Shyamalan</td>\n",
              "      <td>James McAvoy, Anya Taylor-Joy, Haley Lu Richar...</td>\n",
              "      <td>2016</td>\n",
              "      <td>117</td>\n",
              "      <td>7.3</td>\n",
              "      <td>157606</td>\n",
              "      <td>138.12</td>\n",
              "      <td>62.0</td>\n",
              "    </tr>\n",
              "    <tr>\n",
              "      <th>Sing</th>\n",
              "      <td>4</td>\n",
              "      <td>Animation,Comedy,Family</td>\n",
              "      <td>In a city of humanoid animals, a hustling thea...</td>\n",
              "      <td>Christophe Lourdelet</td>\n",
              "      <td>Matthew McConaughey,Reese Witherspoon, Seth Ma...</td>\n",
              "      <td>2016</td>\n",
              "      <td>108</td>\n",
              "      <td>7.2</td>\n",
              "      <td>60545</td>\n",
              "      <td>270.32</td>\n",
              "      <td>59.0</td>\n",
              "    </tr>\n",
              "    <tr>\n",
              "      <th>Suicide Squad</th>\n",
              "      <td>5</td>\n",
              "      <td>Action,Adventure,Fantasy</td>\n",
              "      <td>A secret government agency recruits some of th...</td>\n",
              "      <td>David Ayer</td>\n",
              "      <td>Will Smith, Jared Leto, Margot Robbie, Viola D...</td>\n",
              "      <td>2016</td>\n",
              "      <td>123</td>\n",
              "      <td>6.2</td>\n",
              "      <td>393727</td>\n",
              "      <td>325.02</td>\n",
              "      <td>40.0</td>\n",
              "    </tr>\n",
              "    <tr>\n",
              "      <th>...</th>\n",
              "      <td>...</td>\n",
              "      <td>...</td>\n",
              "      <td>...</td>\n",
              "      <td>...</td>\n",
              "      <td>...</td>\n",
              "      <td>...</td>\n",
              "      <td>...</td>\n",
              "      <td>...</td>\n",
              "      <td>...</td>\n",
              "      <td>...</td>\n",
              "      <td>...</td>\n",
              "    </tr>\n",
              "    <tr>\n",
              "      <th>Secret in Their Eyes</th>\n",
              "      <td>996</td>\n",
              "      <td>Crime,Drama,Mystery</td>\n",
              "      <td>A tight-knit team of rising investigators, alo...</td>\n",
              "      <td>Billy Ray</td>\n",
              "      <td>Chiwetel Ejiofor, Nicole Kidman, Julia Roberts...</td>\n",
              "      <td>2015</td>\n",
              "      <td>111</td>\n",
              "      <td>6.2</td>\n",
              "      <td>27585</td>\n",
              "      <td>NaN</td>\n",
              "      <td>45.0</td>\n",
              "    </tr>\n",
              "    <tr>\n",
              "      <th>Hostel: Part II</th>\n",
              "      <td>997</td>\n",
              "      <td>Horror</td>\n",
              "      <td>Three American college students studying abroa...</td>\n",
              "      <td>Eli Roth</td>\n",
              "      <td>Lauren German, Heather Matarazzo, Bijou Philli...</td>\n",
              "      <td>2007</td>\n",
              "      <td>94</td>\n",
              "      <td>5.5</td>\n",
              "      <td>73152</td>\n",
              "      <td>17.54</td>\n",
              "      <td>46.0</td>\n",
              "    </tr>\n",
              "    <tr>\n",
              "      <th>Step Up 2: The Streets</th>\n",
              "      <td>998</td>\n",
              "      <td>Drama,Music,Romance</td>\n",
              "      <td>Romantic sparks occur between two dance studen...</td>\n",
              "      <td>Jon M. Chu</td>\n",
              "      <td>Robert Hoffman, Briana Evigan, Cassie Ventura,...</td>\n",
              "      <td>2008</td>\n",
              "      <td>98</td>\n",
              "      <td>6.2</td>\n",
              "      <td>70699</td>\n",
              "      <td>58.01</td>\n",
              "      <td>50.0</td>\n",
              "    </tr>\n",
              "    <tr>\n",
              "      <th>Search Party</th>\n",
              "      <td>999</td>\n",
              "      <td>Adventure,Comedy</td>\n",
              "      <td>A pair of friends embark on a mission to reuni...</td>\n",
              "      <td>Scot Armstrong</td>\n",
              "      <td>Adam Pally, T.J. Miller, Thomas Middleditch,Sh...</td>\n",
              "      <td>2014</td>\n",
              "      <td>93</td>\n",
              "      <td>5.6</td>\n",
              "      <td>4881</td>\n",
              "      <td>NaN</td>\n",
              "      <td>22.0</td>\n",
              "    </tr>\n",
              "    <tr>\n",
              "      <th>Nine Lives</th>\n",
              "      <td>1000</td>\n",
              "      <td>Comedy,Family,Fantasy</td>\n",
              "      <td>A stuffy businessman finds himself trapped ins...</td>\n",
              "      <td>Barry Sonnenfeld</td>\n",
              "      <td>Kevin Spacey, Jennifer Garner, Robbie Amell,Ch...</td>\n",
              "      <td>2016</td>\n",
              "      <td>87</td>\n",
              "      <td>5.3</td>\n",
              "      <td>12435</td>\n",
              "      <td>19.64</td>\n",
              "      <td>11.0</td>\n",
              "    </tr>\n",
              "  </tbody>\n",
              "</table>\n",
              "<p>1000 rows × 11 columns</p>\n",
              "</div>"
            ],
            "text/plain": [
              "                         Rank  ... Metascore\n",
              "Title                          ...          \n",
              "Guardians of the Galaxy     1  ...      76.0\n",
              "Prometheus                  2  ...      65.0\n",
              "Split                       3  ...      62.0\n",
              "Sing                        4  ...      59.0\n",
              "Suicide Squad               5  ...      40.0\n",
              "...                       ...  ...       ...\n",
              "Secret in Their Eyes      996  ...      45.0\n",
              "Hostel: Part II           997  ...      46.0\n",
              "Step Up 2: The Streets    998  ...      50.0\n",
              "Search Party              999  ...      22.0\n",
              "Nine Lives               1000  ...      11.0\n",
              "\n",
              "[1000 rows x 11 columns]"
            ]
          },
          "metadata": {
            "tags": []
          },
          "execution_count": 60
        }
      ]
    },
    {
      "cell_type": "markdown",
      "metadata": {
        "id": "0Xg67MnRS6qf"
      },
      "source": [
        "Removing Duplicates\n"
      ]
    },
    {
      "cell_type": "code",
      "metadata": {
        "colab": {
          "base_uri": "https://localhost:8080/"
        },
        "id": "aIqFqOgTS9rY",
        "outputId": "ce45d56d-4357-4307-a66a-e78228233168"
      },
      "source": [
        "movies_df.info()"
      ],
      "execution_count": 62,
      "outputs": [
        {
          "output_type": "stream",
          "text": [
            "<class 'pandas.core.frame.DataFrame'>\n",
            "Index: 1000 entries, Guardians of the Galaxy to Nine Lives\n",
            "Data columns (total 11 columns):\n",
            " #   Column              Non-Null Count  Dtype  \n",
            "---  ------              --------------  -----  \n",
            " 0   Rank                1000 non-null   int64  \n",
            " 1   Genre               1000 non-null   object \n",
            " 2   Description         1000 non-null   object \n",
            " 3   Director            1000 non-null   object \n",
            " 4   Actors              1000 non-null   object \n",
            " 5   Year                1000 non-null   int64  \n",
            " 6   Runtime (Minutes)   1000 non-null   int64  \n",
            " 7   Rating              1000 non-null   float64\n",
            " 8   Votes               1000 non-null   int64  \n",
            " 9   Revenue (Millions)  872 non-null    float64\n",
            " 10  Metascore           936 non-null    float64\n",
            "dtypes: float64(3), int64(4), object(4)\n",
            "memory usage: 93.8+ KB\n"
          ],
          "name": "stdout"
        }
      ]
    },
    {
      "cell_type": "markdown",
      "metadata": {
        "id": "z3y9HDxxTWZC"
      },
      "source": [
        "To Change Columns"
      ]
    },
    {
      "cell_type": "code",
      "metadata": {
        "colab": {
          "base_uri": "https://localhost:8080/"
        },
        "id": "_NCa2IZQTYzJ",
        "outputId": "791afb77-c0d4-4c1b-9f59-d09ce4b473f1"
      },
      "source": [
        "movies_df.columns"
      ],
      "execution_count": 63,
      "outputs": [
        {
          "output_type": "execute_result",
          "data": {
            "text/plain": [
              "Index(['Rank', 'Genre', 'Description', 'Director', 'Actors', 'Year',\n",
              "       'Runtime (Minutes)', 'Rating', 'Votes', 'Revenue (Millions)',\n",
              "       'Metascore'],\n",
              "      dtype='object')"
            ]
          },
          "metadata": {
            "tags": []
          },
          "execution_count": 63
        }
      ]
    },
    {
      "cell_type": "code",
      "metadata": {
        "colab": {
          "base_uri": "https://localhost:8080/"
        },
        "id": "qs-EyTNpTdYm",
        "outputId": "bc135ae3-c7e0-4184-f24b-4d0996299972"
      },
      "source": [
        "movies_df.rename(columns = {'Actors' : 'Stars', 'Years' : 'Realesae Date','Revenue (Millions)' : 'Collections' }, inplace=True)\n",
        "movies_df.columns"
      ],
      "execution_count": 64,
      "outputs": [
        {
          "output_type": "execute_result",
          "data": {
            "text/plain": [
              "Index(['Rank', 'Genre', 'Description', 'Director', 'Stars', 'Year',\n",
              "       'Runtime (Minutes)', 'Rating', 'Votes', 'Collections', 'Metascore'],\n",
              "      dtype='object')"
            ]
          },
          "metadata": {
            "tags": []
          },
          "execution_count": 64
        }
      ]
    },
    {
      "cell_type": "markdown",
      "metadata": {
        "id": "VgokRMf6UTV8"
      },
      "source": [
        "To Show Null Columes"
      ]
    },
    {
      "cell_type": "code",
      "metadata": {
        "colab": {
          "base_uri": "https://localhost:8080/",
          "height": 450
        },
        "id": "6UxGlkE5UXCP",
        "outputId": "4fa15485-3d69-443c-b031-78dd11500971"
      },
      "source": [
        "movies_df .isnull()"
      ],
      "execution_count": 65,
      "outputs": [
        {
          "output_type": "execute_result",
          "data": {
            "text/html": [
              "<div>\n",
              "<style scoped>\n",
              "    .dataframe tbody tr th:only-of-type {\n",
              "        vertical-align: middle;\n",
              "    }\n",
              "\n",
              "    .dataframe tbody tr th {\n",
              "        vertical-align: top;\n",
              "    }\n",
              "\n",
              "    .dataframe thead th {\n",
              "        text-align: right;\n",
              "    }\n",
              "</style>\n",
              "<table border=\"1\" class=\"dataframe\">\n",
              "  <thead>\n",
              "    <tr style=\"text-align: right;\">\n",
              "      <th></th>\n",
              "      <th>Rank</th>\n",
              "      <th>Genre</th>\n",
              "      <th>Description</th>\n",
              "      <th>Director</th>\n",
              "      <th>Stars</th>\n",
              "      <th>Year</th>\n",
              "      <th>Runtime (Minutes)</th>\n",
              "      <th>Rating</th>\n",
              "      <th>Votes</th>\n",
              "      <th>Collections</th>\n",
              "      <th>Metascore</th>\n",
              "    </tr>\n",
              "    <tr>\n",
              "      <th>Title</th>\n",
              "      <th></th>\n",
              "      <th></th>\n",
              "      <th></th>\n",
              "      <th></th>\n",
              "      <th></th>\n",
              "      <th></th>\n",
              "      <th></th>\n",
              "      <th></th>\n",
              "      <th></th>\n",
              "      <th></th>\n",
              "      <th></th>\n",
              "    </tr>\n",
              "  </thead>\n",
              "  <tbody>\n",
              "    <tr>\n",
              "      <th>Guardians of the Galaxy</th>\n",
              "      <td>False</td>\n",
              "      <td>False</td>\n",
              "      <td>False</td>\n",
              "      <td>False</td>\n",
              "      <td>False</td>\n",
              "      <td>False</td>\n",
              "      <td>False</td>\n",
              "      <td>False</td>\n",
              "      <td>False</td>\n",
              "      <td>False</td>\n",
              "      <td>False</td>\n",
              "    </tr>\n",
              "    <tr>\n",
              "      <th>Prometheus</th>\n",
              "      <td>False</td>\n",
              "      <td>False</td>\n",
              "      <td>False</td>\n",
              "      <td>False</td>\n",
              "      <td>False</td>\n",
              "      <td>False</td>\n",
              "      <td>False</td>\n",
              "      <td>False</td>\n",
              "      <td>False</td>\n",
              "      <td>False</td>\n",
              "      <td>False</td>\n",
              "    </tr>\n",
              "    <tr>\n",
              "      <th>Split</th>\n",
              "      <td>False</td>\n",
              "      <td>False</td>\n",
              "      <td>False</td>\n",
              "      <td>False</td>\n",
              "      <td>False</td>\n",
              "      <td>False</td>\n",
              "      <td>False</td>\n",
              "      <td>False</td>\n",
              "      <td>False</td>\n",
              "      <td>False</td>\n",
              "      <td>False</td>\n",
              "    </tr>\n",
              "    <tr>\n",
              "      <th>Sing</th>\n",
              "      <td>False</td>\n",
              "      <td>False</td>\n",
              "      <td>False</td>\n",
              "      <td>False</td>\n",
              "      <td>False</td>\n",
              "      <td>False</td>\n",
              "      <td>False</td>\n",
              "      <td>False</td>\n",
              "      <td>False</td>\n",
              "      <td>False</td>\n",
              "      <td>False</td>\n",
              "    </tr>\n",
              "    <tr>\n",
              "      <th>Suicide Squad</th>\n",
              "      <td>False</td>\n",
              "      <td>False</td>\n",
              "      <td>False</td>\n",
              "      <td>False</td>\n",
              "      <td>False</td>\n",
              "      <td>False</td>\n",
              "      <td>False</td>\n",
              "      <td>False</td>\n",
              "      <td>False</td>\n",
              "      <td>False</td>\n",
              "      <td>False</td>\n",
              "    </tr>\n",
              "    <tr>\n",
              "      <th>...</th>\n",
              "      <td>...</td>\n",
              "      <td>...</td>\n",
              "      <td>...</td>\n",
              "      <td>...</td>\n",
              "      <td>...</td>\n",
              "      <td>...</td>\n",
              "      <td>...</td>\n",
              "      <td>...</td>\n",
              "      <td>...</td>\n",
              "      <td>...</td>\n",
              "      <td>...</td>\n",
              "    </tr>\n",
              "    <tr>\n",
              "      <th>Secret in Their Eyes</th>\n",
              "      <td>False</td>\n",
              "      <td>False</td>\n",
              "      <td>False</td>\n",
              "      <td>False</td>\n",
              "      <td>False</td>\n",
              "      <td>False</td>\n",
              "      <td>False</td>\n",
              "      <td>False</td>\n",
              "      <td>False</td>\n",
              "      <td>True</td>\n",
              "      <td>False</td>\n",
              "    </tr>\n",
              "    <tr>\n",
              "      <th>Hostel: Part II</th>\n",
              "      <td>False</td>\n",
              "      <td>False</td>\n",
              "      <td>False</td>\n",
              "      <td>False</td>\n",
              "      <td>False</td>\n",
              "      <td>False</td>\n",
              "      <td>False</td>\n",
              "      <td>False</td>\n",
              "      <td>False</td>\n",
              "      <td>False</td>\n",
              "      <td>False</td>\n",
              "    </tr>\n",
              "    <tr>\n",
              "      <th>Step Up 2: The Streets</th>\n",
              "      <td>False</td>\n",
              "      <td>False</td>\n",
              "      <td>False</td>\n",
              "      <td>False</td>\n",
              "      <td>False</td>\n",
              "      <td>False</td>\n",
              "      <td>False</td>\n",
              "      <td>False</td>\n",
              "      <td>False</td>\n",
              "      <td>False</td>\n",
              "      <td>False</td>\n",
              "    </tr>\n",
              "    <tr>\n",
              "      <th>Search Party</th>\n",
              "      <td>False</td>\n",
              "      <td>False</td>\n",
              "      <td>False</td>\n",
              "      <td>False</td>\n",
              "      <td>False</td>\n",
              "      <td>False</td>\n",
              "      <td>False</td>\n",
              "      <td>False</td>\n",
              "      <td>False</td>\n",
              "      <td>True</td>\n",
              "      <td>False</td>\n",
              "    </tr>\n",
              "    <tr>\n",
              "      <th>Nine Lives</th>\n",
              "      <td>False</td>\n",
              "      <td>False</td>\n",
              "      <td>False</td>\n",
              "      <td>False</td>\n",
              "      <td>False</td>\n",
              "      <td>False</td>\n",
              "      <td>False</td>\n",
              "      <td>False</td>\n",
              "      <td>False</td>\n",
              "      <td>False</td>\n",
              "      <td>False</td>\n",
              "    </tr>\n",
              "  </tbody>\n",
              "</table>\n",
              "<p>1000 rows × 11 columns</p>\n",
              "</div>"
            ],
            "text/plain": [
              "                          Rank  Genre  ...  Collections  Metascore\n",
              "Title                                  ...                        \n",
              "Guardians of the Galaxy  False  False  ...        False      False\n",
              "Prometheus               False  False  ...        False      False\n",
              "Split                    False  False  ...        False      False\n",
              "Sing                     False  False  ...        False      False\n",
              "Suicide Squad            False  False  ...        False      False\n",
              "...                        ...    ...  ...          ...        ...\n",
              "Secret in Their Eyes     False  False  ...         True      False\n",
              "Hostel: Part II          False  False  ...        False      False\n",
              "Step Up 2: The Streets   False  False  ...        False      False\n",
              "Search Party             False  False  ...         True      False\n",
              "Nine Lives               False  False  ...        False      False\n",
              "\n",
              "[1000 rows x 11 columns]"
            ]
          },
          "metadata": {
            "tags": []
          },
          "execution_count": 65
        }
      ]
    },
    {
      "cell_type": "markdown",
      "metadata": {
        "id": "0n0ByVpKUsyG"
      },
      "source": [
        "To Caluculate Null Columns"
      ]
    },
    {
      "cell_type": "code",
      "metadata": {
        "colab": {
          "base_uri": "https://localhost:8080/"
        },
        "id": "XcfAtZrtUwHt",
        "outputId": "c3f1ae63-1efb-4c90-d2f1-b54cef15d169"
      },
      "source": [
        "movies_df.isnull().sum()"
      ],
      "execution_count": 66,
      "outputs": [
        {
          "output_type": "execute_result",
          "data": {
            "text/plain": [
              "Rank                   0\n",
              "Genre                  0\n",
              "Description            0\n",
              "Director               0\n",
              "Stars                  0\n",
              "Year                   0\n",
              "Runtime (Minutes)      0\n",
              "Rating                 0\n",
              "Votes                  0\n",
              "Collections          128\n",
              "Metascore             64\n",
              "dtype: int64"
            ]
          },
          "metadata": {
            "tags": []
          },
          "execution_count": 66
        }
      ]
    },
    {
      "cell_type": "markdown",
      "metadata": {
        "id": "FtsAG5WWU-51"
      },
      "source": [
        "To Drop Null Columns"
      ]
    },
    {
      "cell_type": "code",
      "metadata": {
        "colab": {
          "base_uri": "https://localhost:8080/"
        },
        "id": "uolS_YE5VMWq",
        "outputId": "fea4a715-3fb3-4ad0-a06c-bc3ea3f59883"
      },
      "source": [
        "movies_dfMoh = movies_df.dropna(axis=0)\n",
        "movies_dfMoh.shape"
      ],
      "execution_count": 75,
      "outputs": [
        {
          "output_type": "execute_result",
          "data": {
            "text/plain": [
              "(838, 11)"
            ]
          },
          "metadata": {
            "tags": []
          },
          "execution_count": 75
        }
      ]
    },
    {
      "cell_type": "markdown",
      "metadata": {
        "id": "dArSFCkDWZdG"
      },
      "source": [
        "To Null Rows"
      ]
    },
    {
      "cell_type": "code",
      "metadata": {
        "colab": {
          "base_uri": "https://localhost:8080/"
        },
        "id": "_9f2ndiCWdqx",
        "outputId": "a75e4453-c209-44e6-9076-ed0eb75481d6"
      },
      "source": [
        "movies_dfMohi = movies_df.dropna(axis=1) \n",
        "movies_dfMohi.shape"
      ],
      "execution_count": 78,
      "outputs": [
        {
          "output_type": "execute_result",
          "data": {
            "text/plain": [
              "(1000, 9)"
            ]
          },
          "metadata": {
            "tags": []
          },
          "execution_count": 78
        }
      ]
    },
    {
      "cell_type": "code",
      "metadata": {
        "colab": {
          "base_uri": "https://localhost:8080/"
        },
        "id": "a_lLAbOQYOi_",
        "outputId": "ef7b18b8-d763-4646-8f2e-4d119d6f2e95"
      },
      "source": [
        "movies_dfMoh.shape"
      ],
      "execution_count": 76,
      "outputs": [
        {
          "output_type": "execute_result",
          "data": {
            "text/plain": [
              "(838, 11)"
            ]
          },
          "metadata": {
            "tags": []
          },
          "execution_count": 76
        }
      ]
    },
    {
      "cell_type": "code",
      "metadata": {
        "colab": {
          "base_uri": "https://localhost:8080/"
        },
        "id": "bzd0Zs7PYEHT",
        "outputId": "0088ecf8-1677-46ba-d987-cccf6db48a15"
      },
      "source": [
        "movies_dfMohi.shape"
      ],
      "execution_count": 79,
      "outputs": [
        {
          "output_type": "execute_result",
          "data": {
            "text/plain": [
              "(1000, 9)"
            ]
          },
          "metadata": {
            "tags": []
          },
          "execution_count": 79
        }
      ]
    },
    {
      "cell_type": "markdown",
      "metadata": {
        "id": "WpQGVYZrYhfS"
      },
      "source": [
        "Mean of Revenue\n"
      ]
    },
    {
      "cell_type": "code",
      "metadata": {
        "colab": {
          "base_uri": "https://localhost:8080/"
        },
        "id": "wQ7smMXJYlgF",
        "outputId": "25f84f91-773f-415d-df3f-1f73c79563dd"
      },
      "source": [
        "revenue = movies_df['Collections']\n",
        "revenue.head(15)"
      ],
      "execution_count": 80,
      "outputs": [
        {
          "output_type": "execute_result",
          "data": {
            "text/plain": [
              "Title\n",
              "Guardians of the Galaxy                    333.13\n",
              "Prometheus                                 126.46\n",
              "Split                                      138.12\n",
              "Sing                                       270.32\n",
              "Suicide Squad                              325.02\n",
              "The Great Wall                              45.13\n",
              "La La Land                                 151.06\n",
              "Mindhorn                                      NaN\n",
              "The Lost City of Z                           8.01\n",
              "Passengers                                 100.01\n",
              "Fantastic Beasts and Where to Find Them    234.02\n",
              "Hidden Figures                             169.27\n",
              "Rogue One                                  532.17\n",
              "Moana                                      248.75\n",
              "Colossal                                     2.87\n",
              "Name: Collections, dtype: float64"
            ]
          },
          "metadata": {
            "tags": []
          },
          "execution_count": 80
        }
      ]
    },
    {
      "cell_type": "code",
      "metadata": {
        "colab": {
          "base_uri": "https://localhost:8080/"
        },
        "id": "mEHJQjPtZczL",
        "outputId": "604884de-b2fd-4227-e67e-71fe74e75f15"
      },
      "source": [
        "meanRev = revenue.mean(0)\n",
        "revenue.fillna(meanRev, inplace=True)\n",
        "movies_df.isnull().sum() "
      ],
      "execution_count": 81,
      "outputs": [
        {
          "output_type": "execute_result",
          "data": {
            "text/plain": [
              "Rank                  0\n",
              "Genre                 0\n",
              "Description           0\n",
              "Director              0\n",
              "Stars                 0\n",
              "Year                  0\n",
              "Runtime (Minutes)     0\n",
              "Rating                0\n",
              "Votes                 0\n",
              "Collections           0\n",
              "Metascore            64\n",
              "dtype: int64"
            ]
          },
          "metadata": {
            "tags": []
          },
          "execution_count": 81
        }
      ]
    },
    {
      "cell_type": "markdown",
      "metadata": {
        "id": "hcEQ9DinZtFs"
      },
      "source": [
        "Describing the dataSet"
      ]
    },
    {
      "cell_type": "code",
      "metadata": {
        "colab": {
          "base_uri": "https://localhost:8080/",
          "height": 297
        },
        "id": "NkFWGr9DZy-O",
        "outputId": "8f2f09eb-2258-4313-82d9-d2b5b5ebe8d2"
      },
      "source": [
        "movies_df.describe( )"
      ],
      "execution_count": 82,
      "outputs": [
        {
          "output_type": "execute_result",
          "data": {
            "text/html": [
              "<div>\n",
              "<style scoped>\n",
              "    .dataframe tbody tr th:only-of-type {\n",
              "        vertical-align: middle;\n",
              "    }\n",
              "\n",
              "    .dataframe tbody tr th {\n",
              "        vertical-align: top;\n",
              "    }\n",
              "\n",
              "    .dataframe thead th {\n",
              "        text-align: right;\n",
              "    }\n",
              "</style>\n",
              "<table border=\"1\" class=\"dataframe\">\n",
              "  <thead>\n",
              "    <tr style=\"text-align: right;\">\n",
              "      <th></th>\n",
              "      <th>Rank</th>\n",
              "      <th>Year</th>\n",
              "      <th>Runtime (Minutes)</th>\n",
              "      <th>Rating</th>\n",
              "      <th>Votes</th>\n",
              "      <th>Collections</th>\n",
              "      <th>Metascore</th>\n",
              "    </tr>\n",
              "  </thead>\n",
              "  <tbody>\n",
              "    <tr>\n",
              "      <th>count</th>\n",
              "      <td>1000.000000</td>\n",
              "      <td>1000.000000</td>\n",
              "      <td>1000.000000</td>\n",
              "      <td>1000.000000</td>\n",
              "      <td>1.000000e+03</td>\n",
              "      <td>1000.000000</td>\n",
              "      <td>936.000000</td>\n",
              "    </tr>\n",
              "    <tr>\n",
              "      <th>mean</th>\n",
              "      <td>500.500000</td>\n",
              "      <td>2012.783000</td>\n",
              "      <td>113.172000</td>\n",
              "      <td>6.723200</td>\n",
              "      <td>1.698083e+05</td>\n",
              "      <td>82.956376</td>\n",
              "      <td>58.985043</td>\n",
              "    </tr>\n",
              "    <tr>\n",
              "      <th>std</th>\n",
              "      <td>288.819436</td>\n",
              "      <td>3.205962</td>\n",
              "      <td>18.810908</td>\n",
              "      <td>0.945429</td>\n",
              "      <td>1.887626e+05</td>\n",
              "      <td>96.412043</td>\n",
              "      <td>17.194757</td>\n",
              "    </tr>\n",
              "    <tr>\n",
              "      <th>min</th>\n",
              "      <td>1.000000</td>\n",
              "      <td>2006.000000</td>\n",
              "      <td>66.000000</td>\n",
              "      <td>1.900000</td>\n",
              "      <td>6.100000e+01</td>\n",
              "      <td>0.000000</td>\n",
              "      <td>11.000000</td>\n",
              "    </tr>\n",
              "    <tr>\n",
              "      <th>25%</th>\n",
              "      <td>250.750000</td>\n",
              "      <td>2010.000000</td>\n",
              "      <td>100.000000</td>\n",
              "      <td>6.200000</td>\n",
              "      <td>3.630900e+04</td>\n",
              "      <td>17.442500</td>\n",
              "      <td>47.000000</td>\n",
              "    </tr>\n",
              "    <tr>\n",
              "      <th>50%</th>\n",
              "      <td>500.500000</td>\n",
              "      <td>2014.000000</td>\n",
              "      <td>111.000000</td>\n",
              "      <td>6.800000</td>\n",
              "      <td>1.107990e+05</td>\n",
              "      <td>60.375000</td>\n",
              "      <td>59.500000</td>\n",
              "    </tr>\n",
              "    <tr>\n",
              "      <th>75%</th>\n",
              "      <td>750.250000</td>\n",
              "      <td>2016.000000</td>\n",
              "      <td>123.000000</td>\n",
              "      <td>7.400000</td>\n",
              "      <td>2.399098e+05</td>\n",
              "      <td>99.177500</td>\n",
              "      <td>72.000000</td>\n",
              "    </tr>\n",
              "    <tr>\n",
              "      <th>max</th>\n",
              "      <td>1000.000000</td>\n",
              "      <td>2016.000000</td>\n",
              "      <td>191.000000</td>\n",
              "      <td>9.000000</td>\n",
              "      <td>1.791916e+06</td>\n",
              "      <td>936.630000</td>\n",
              "      <td>100.000000</td>\n",
              "    </tr>\n",
              "  </tbody>\n",
              "</table>\n",
              "</div>"
            ],
            "text/plain": [
              "              Rank         Year  ...  Collections   Metascore\n",
              "count  1000.000000  1000.000000  ...  1000.000000  936.000000\n",
              "mean    500.500000  2012.783000  ...    82.956376   58.985043\n",
              "std     288.819436     3.205962  ...    96.412043   17.194757\n",
              "min       1.000000  2006.000000  ...     0.000000   11.000000\n",
              "25%     250.750000  2010.000000  ...    17.442500   47.000000\n",
              "50%     500.500000  2014.000000  ...    60.375000   59.500000\n",
              "75%     750.250000  2016.000000  ...    99.177500   72.000000\n",
              "max    1000.000000  2016.000000  ...   936.630000  100.000000\n",
              "\n",
              "[8 rows x 7 columns]"
            ]
          },
          "metadata": {
            "tags": []
          },
          "execution_count": 82
        }
      ]
    },
    {
      "cell_type": "markdown",
      "metadata": {
        "id": "fG9kBu76ccn7"
      },
      "source": [
        "Correlation"
      ]
    },
    {
      "cell_type": "code",
      "metadata": {
        "colab": {
          "base_uri": "https://localhost:8080/",
          "height": 266
        },
        "id": "5akw6dSoce1v",
        "outputId": "98f2ecbd-abb9-449e-a598-f97cd8442b3c"
      },
      "source": [
        "movies_df.corr()"
      ],
      "execution_count": 85,
      "outputs": [
        {
          "output_type": "execute_result",
          "data": {
            "text/html": [
              "<div>\n",
              "<style scoped>\n",
              "    .dataframe tbody tr th:only-of-type {\n",
              "        vertical-align: middle;\n",
              "    }\n",
              "\n",
              "    .dataframe tbody tr th {\n",
              "        vertical-align: top;\n",
              "    }\n",
              "\n",
              "    .dataframe thead th {\n",
              "        text-align: right;\n",
              "    }\n",
              "</style>\n",
              "<table border=\"1\" class=\"dataframe\">\n",
              "  <thead>\n",
              "    <tr style=\"text-align: right;\">\n",
              "      <th></th>\n",
              "      <th>Rank</th>\n",
              "      <th>Year</th>\n",
              "      <th>Runtime (Minutes)</th>\n",
              "      <th>Rating</th>\n",
              "      <th>Votes</th>\n",
              "      <th>Collections</th>\n",
              "      <th>Metascore</th>\n",
              "    </tr>\n",
              "  </thead>\n",
              "  <tbody>\n",
              "    <tr>\n",
              "      <th>Rank</th>\n",
              "      <td>1.000000</td>\n",
              "      <td>-0.261605</td>\n",
              "      <td>-0.221739</td>\n",
              "      <td>-0.219555</td>\n",
              "      <td>-0.283876</td>\n",
              "      <td>-0.252996</td>\n",
              "      <td>-0.191869</td>\n",
              "    </tr>\n",
              "    <tr>\n",
              "      <th>Year</th>\n",
              "      <td>-0.261605</td>\n",
              "      <td>1.000000</td>\n",
              "      <td>-0.164900</td>\n",
              "      <td>-0.211219</td>\n",
              "      <td>-0.411904</td>\n",
              "      <td>-0.117562</td>\n",
              "      <td>-0.079305</td>\n",
              "    </tr>\n",
              "    <tr>\n",
              "      <th>Runtime (Minutes)</th>\n",
              "      <td>-0.221739</td>\n",
              "      <td>-0.164900</td>\n",
              "      <td>1.000000</td>\n",
              "      <td>0.392214</td>\n",
              "      <td>0.407062</td>\n",
              "      <td>0.247834</td>\n",
              "      <td>0.211978</td>\n",
              "    </tr>\n",
              "    <tr>\n",
              "      <th>Rating</th>\n",
              "      <td>-0.219555</td>\n",
              "      <td>-0.211219</td>\n",
              "      <td>0.392214</td>\n",
              "      <td>1.000000</td>\n",
              "      <td>0.511537</td>\n",
              "      <td>0.189527</td>\n",
              "      <td>0.631897</td>\n",
              "    </tr>\n",
              "    <tr>\n",
              "      <th>Votes</th>\n",
              "      <td>-0.283876</td>\n",
              "      <td>-0.411904</td>\n",
              "      <td>0.407062</td>\n",
              "      <td>0.511537</td>\n",
              "      <td>1.000000</td>\n",
              "      <td>0.607941</td>\n",
              "      <td>0.325684</td>\n",
              "    </tr>\n",
              "    <tr>\n",
              "      <th>Collections</th>\n",
              "      <td>-0.252996</td>\n",
              "      <td>-0.117562</td>\n",
              "      <td>0.247834</td>\n",
              "      <td>0.189527</td>\n",
              "      <td>0.607941</td>\n",
              "      <td>1.000000</td>\n",
              "      <td>0.133328</td>\n",
              "    </tr>\n",
              "    <tr>\n",
              "      <th>Metascore</th>\n",
              "      <td>-0.191869</td>\n",
              "      <td>-0.079305</td>\n",
              "      <td>0.211978</td>\n",
              "      <td>0.631897</td>\n",
              "      <td>0.325684</td>\n",
              "      <td>0.133328</td>\n",
              "      <td>1.000000</td>\n",
              "    </tr>\n",
              "  </tbody>\n",
              "</table>\n",
              "</div>"
            ],
            "text/plain": [
              "                       Rank      Year  ...  Collections  Metascore\n",
              "Rank               1.000000 -0.261605  ...    -0.252996  -0.191869\n",
              "Year              -0.261605  1.000000  ...    -0.117562  -0.079305\n",
              "Runtime (Minutes) -0.221739 -0.164900  ...     0.247834   0.211978\n",
              "Rating            -0.219555 -0.211219  ...     0.189527   0.631897\n",
              "Votes             -0.283876 -0.411904  ...     0.607941   0.325684\n",
              "Collections       -0.252996 -0.117562  ...     1.000000   0.133328\n",
              "Metascore         -0.191869 -0.079305  ...     0.133328   1.000000\n",
              "\n",
              "[7 rows x 7 columns]"
            ]
          },
          "metadata": {
            "tags": []
          },
          "execution_count": 85
        }
      ]
    },
    {
      "cell_type": "markdown",
      "metadata": {
        "id": "a80i_WEucrcI"
      },
      "source": [
        "Finding using rows"
      ]
    },
    {
      "cell_type": "code",
      "metadata": {
        "colab": {
          "base_uri": "https://localhost:8080/"
        },
        "id": "8SQB2o6edAOb",
        "outputId": "1bef47f8-d970-4384-8064-23bc89b253ba"
      },
      "source": [
        "movies_df.loc['Project X'] "
      ],
      "execution_count": 86,
      "outputs": [
        {
          "output_type": "execute_result",
          "data": {
            "text/plain": [
              "Rank                                                               995\n",
              "Genre                                                           Comedy\n",
              "Description          3 high school seniors throw a birthday party t...\n",
              "Director                                               Nima Nourizadeh\n",
              "Stars                Thomas Mann, Oliver Cooper, Jonathan Daniel Br...\n",
              "Year                                                              2012\n",
              "Runtime (Minutes)                                                   88\n",
              "Rating                                                             6.7\n",
              "Votes                                                           164088\n",
              "Collections                                                      54.72\n",
              "Metascore                                                           48\n",
              "Name: Project X, dtype: object"
            ]
          },
          "metadata": {
            "tags": []
          },
          "execution_count": 86
        }
      ]
    },
    {
      "cell_type": "markdown",
      "metadata": {
        "id": "0S5w1NMKdHae"
      },
      "source": [
        "Finding using column x to x-1"
      ]
    },
    {
      "cell_type": "code",
      "metadata": {
        "colab": {
          "base_uri": "https://localhost:8080/",
          "height": 204
        },
        "id": "KnfG4mI-dRL5",
        "outputId": "9ba10368-6ea7-4eaa-8e02-4401208b7310"
      },
      "source": [
        "movie_subset = movies_df.iloc[1:5]\n",
        "movie_subset"
      ],
      "execution_count": 87,
      "outputs": [
        {
          "output_type": "execute_result",
          "data": {
            "text/html": [
              "<div>\n",
              "<style scoped>\n",
              "    .dataframe tbody tr th:only-of-type {\n",
              "        vertical-align: middle;\n",
              "    }\n",
              "\n",
              "    .dataframe tbody tr th {\n",
              "        vertical-align: top;\n",
              "    }\n",
              "\n",
              "    .dataframe thead th {\n",
              "        text-align: right;\n",
              "    }\n",
              "</style>\n",
              "<table border=\"1\" class=\"dataframe\">\n",
              "  <thead>\n",
              "    <tr style=\"text-align: right;\">\n",
              "      <th></th>\n",
              "      <th>Rank</th>\n",
              "      <th>Genre</th>\n",
              "      <th>Description</th>\n",
              "      <th>Director</th>\n",
              "      <th>Stars</th>\n",
              "      <th>Year</th>\n",
              "      <th>Runtime (Minutes)</th>\n",
              "      <th>Rating</th>\n",
              "      <th>Votes</th>\n",
              "      <th>Collections</th>\n",
              "      <th>Metascore</th>\n",
              "    </tr>\n",
              "    <tr>\n",
              "      <th>Title</th>\n",
              "      <th></th>\n",
              "      <th></th>\n",
              "      <th></th>\n",
              "      <th></th>\n",
              "      <th></th>\n",
              "      <th></th>\n",
              "      <th></th>\n",
              "      <th></th>\n",
              "      <th></th>\n",
              "      <th></th>\n",
              "      <th></th>\n",
              "    </tr>\n",
              "  </thead>\n",
              "  <tbody>\n",
              "    <tr>\n",
              "      <th>Prometheus</th>\n",
              "      <td>2</td>\n",
              "      <td>Adventure,Mystery,Sci-Fi</td>\n",
              "      <td>Following clues to the origin of mankind, a te...</td>\n",
              "      <td>Ridley Scott</td>\n",
              "      <td>Noomi Rapace, Logan Marshall-Green, Michael Fa...</td>\n",
              "      <td>2012</td>\n",
              "      <td>124</td>\n",
              "      <td>7.0</td>\n",
              "      <td>485820</td>\n",
              "      <td>126.46</td>\n",
              "      <td>65.0</td>\n",
              "    </tr>\n",
              "    <tr>\n",
              "      <th>Split</th>\n",
              "      <td>3</td>\n",
              "      <td>Horror,Thriller</td>\n",
              "      <td>Three girls are kidnapped by a man with a diag...</td>\n",
              "      <td>M. Night Shyamalan</td>\n",
              "      <td>James McAvoy, Anya Taylor-Joy, Haley Lu Richar...</td>\n",
              "      <td>2016</td>\n",
              "      <td>117</td>\n",
              "      <td>7.3</td>\n",
              "      <td>157606</td>\n",
              "      <td>138.12</td>\n",
              "      <td>62.0</td>\n",
              "    </tr>\n",
              "    <tr>\n",
              "      <th>Sing</th>\n",
              "      <td>4</td>\n",
              "      <td>Animation,Comedy,Family</td>\n",
              "      <td>In a city of humanoid animals, a hustling thea...</td>\n",
              "      <td>Christophe Lourdelet</td>\n",
              "      <td>Matthew McConaughey,Reese Witherspoon, Seth Ma...</td>\n",
              "      <td>2016</td>\n",
              "      <td>108</td>\n",
              "      <td>7.2</td>\n",
              "      <td>60545</td>\n",
              "      <td>270.32</td>\n",
              "      <td>59.0</td>\n",
              "    </tr>\n",
              "    <tr>\n",
              "      <th>Suicide Squad</th>\n",
              "      <td>5</td>\n",
              "      <td>Action,Adventure,Fantasy</td>\n",
              "      <td>A secret government agency recruits some of th...</td>\n",
              "      <td>David Ayer</td>\n",
              "      <td>Will Smith, Jared Leto, Margot Robbie, Viola D...</td>\n",
              "      <td>2016</td>\n",
              "      <td>123</td>\n",
              "      <td>6.2</td>\n",
              "      <td>393727</td>\n",
              "      <td>325.02</td>\n",
              "      <td>40.0</td>\n",
              "    </tr>\n",
              "  </tbody>\n",
              "</table>\n",
              "</div>"
            ],
            "text/plain": [
              "               Rank                     Genre  ... Collections Metascore\n",
              "Title                                          ...                      \n",
              "Prometheus        2  Adventure,Mystery,Sci-Fi  ...      126.46      65.0\n",
              "Split             3           Horror,Thriller  ...      138.12      62.0\n",
              "Sing              4   Animation,Comedy,Family  ...      270.32      59.0\n",
              "Suicide Squad     5  Action,Adventure,Fantasy  ...      325.02      40.0\n",
              "\n",
              "[4 rows x 11 columns]"
            ]
          },
          "metadata": {
            "tags": []
          },
          "execution_count": 87
        }
      ]
    },
    {
      "cell_type": "markdown",
      "metadata": {
        "id": "5FXyblT5dmE4"
      },
      "source": [
        "More than given condition"
      ]
    },
    {
      "cell_type": "code",
      "metadata": {
        "colab": {
          "base_uri": "https://localhost:8080/"
        },
        "id": "UdfdumVYdohm",
        "outputId": "4a82b197-f11f-4d53-84d4-3951b275ee6e"
      },
      "source": [
        "year = movies_df['Year']\n",
        "year[year.gt(2009)]"
      ],
      "execution_count": 88,
      "outputs": [
        {
          "output_type": "execute_result",
          "data": {
            "text/plain": [
              "Title\n",
              "Guardians of the Galaxy     2014\n",
              "Prometheus                  2012\n",
              "Split                       2016\n",
              "Sing                        2016\n",
              "Suicide Squad               2016\n",
              "                            ... \n",
              "Resident Evil: Afterlife    2010\n",
              "Project X                   2012\n",
              "Secret in Their Eyes        2015\n",
              "Search Party                2014\n",
              "Nine Lives                  2016\n",
              "Name: Year, Length: 800, dtype: int64"
            ]
          },
          "metadata": {
            "tags": []
          },
          "execution_count": 88
        }
      ]
    },
    {
      "cell_type": "markdown",
      "metadata": {
        "id": "CcgZQU7sd352"
      },
      "source": [
        "Less than given condition"
      ]
    },
    {
      "cell_type": "code",
      "metadata": {
        "colab": {
          "base_uri": "https://localhost:8080/"
        },
        "id": "PYFSfpR5d-XV",
        "outputId": "41b07fbb-9f97-4377-bd7f-68da940da6c8"
      },
      "source": [
        "year = movies_df['Year']\n",
        "year[year.lt(2009)]"
      ],
      "execution_count": 89,
      "outputs": [
        {
          "output_type": "execute_result",
          "data": {
            "text/plain": [
              "Title\n",
              "5- 25- 77                                     2007\n",
              "The Dark Knight                               2008\n",
              "The Prestige                                  2006\n",
              "Pirates of the Caribbean: At World's End      2007\n",
              "Pirates of the Caribbean: Dead Man's Chest    2006\n",
              "                                              ... \n",
              "Across the Universe                           2007\n",
              "Martyrs                                       2008\n",
              "Taare Zameen Par                              2007\n",
              "Hostel: Part II                               2007\n",
              "Step Up 2: The Streets                        2008\n",
              "Name: Year, Length: 149, dtype: int64"
            ]
          },
          "metadata": {
            "tags": []
          },
          "execution_count": 89
        }
      ]
    },
    {
      "cell_type": "markdown",
      "metadata": {
        "id": "8zM3X_I-eKFd"
      },
      "source": [
        "Based on two conditions"
      ]
    },
    {
      "cell_type": "code",
      "metadata": {
        "colab": {
          "base_uri": "https://localhost:8080/",
          "height": 142
        },
        "id": "bgaV-67JeOV1",
        "outputId": "d5c52faf-f40b-4b01-d775-dc2a3fe7ecef"
      },
      "source": [
        "moviesByRidley = movies_df[(movies_df['Director'] == \"Ridley Scott\") & movies_df['Rating'].gt(7.5)]\n",
        "moviesByRidley.head(4)"
      ],
      "execution_count": 90,
      "outputs": [
        {
          "output_type": "execute_result",
          "data": {
            "text/html": [
              "<div>\n",
              "<style scoped>\n",
              "    .dataframe tbody tr th:only-of-type {\n",
              "        vertical-align: middle;\n",
              "    }\n",
              "\n",
              "    .dataframe tbody tr th {\n",
              "        vertical-align: top;\n",
              "    }\n",
              "\n",
              "    .dataframe thead th {\n",
              "        text-align: right;\n",
              "    }\n",
              "</style>\n",
              "<table border=\"1\" class=\"dataframe\">\n",
              "  <thead>\n",
              "    <tr style=\"text-align: right;\">\n",
              "      <th></th>\n",
              "      <th>Rank</th>\n",
              "      <th>Genre</th>\n",
              "      <th>Description</th>\n",
              "      <th>Director</th>\n",
              "      <th>Stars</th>\n",
              "      <th>Year</th>\n",
              "      <th>Runtime (Minutes)</th>\n",
              "      <th>Rating</th>\n",
              "      <th>Votes</th>\n",
              "      <th>Collections</th>\n",
              "      <th>Metascore</th>\n",
              "    </tr>\n",
              "    <tr>\n",
              "      <th>Title</th>\n",
              "      <th></th>\n",
              "      <th></th>\n",
              "      <th></th>\n",
              "      <th></th>\n",
              "      <th></th>\n",
              "      <th></th>\n",
              "      <th></th>\n",
              "      <th></th>\n",
              "      <th></th>\n",
              "      <th></th>\n",
              "      <th></th>\n",
              "    </tr>\n",
              "  </thead>\n",
              "  <tbody>\n",
              "    <tr>\n",
              "      <th>The Martian</th>\n",
              "      <td>103</td>\n",
              "      <td>Adventure,Drama,Sci-Fi</td>\n",
              "      <td>An astronaut becomes stranded on Mars after hi...</td>\n",
              "      <td>Ridley Scott</td>\n",
              "      <td>Matt Damon, Jessica Chastain, Kristen Wiig, Ka...</td>\n",
              "      <td>2015</td>\n",
              "      <td>144</td>\n",
              "      <td>8.0</td>\n",
              "      <td>556097</td>\n",
              "      <td>228.43</td>\n",
              "      <td>80.0</td>\n",
              "    </tr>\n",
              "    <tr>\n",
              "      <th>American Gangster</th>\n",
              "      <td>471</td>\n",
              "      <td>Biography,Crime,Drama</td>\n",
              "      <td>In 1970s America, a detective works to bring d...</td>\n",
              "      <td>Ridley Scott</td>\n",
              "      <td>Denzel Washington, Russell Crowe, Chiwetel Eji...</td>\n",
              "      <td>2007</td>\n",
              "      <td>157</td>\n",
              "      <td>7.8</td>\n",
              "      <td>337835</td>\n",
              "      <td>130.13</td>\n",
              "      <td>76.0</td>\n",
              "    </tr>\n",
              "  </tbody>\n",
              "</table>\n",
              "</div>"
            ],
            "text/plain": [
              "                   Rank                   Genre  ... Collections Metascore\n",
              "Title                                            ...                      \n",
              "The Martian         103  Adventure,Drama,Sci-Fi  ...      228.43      80.0\n",
              "American Gangster   471   Biography,Crime,Drama  ...      130.13      76.0\n",
              "\n",
              "[2 rows x 11 columns]"
            ]
          },
          "metadata": {
            "tags": []
          },
          "execution_count": 90
        }
      ]
    },
    {
      "cell_type": "markdown",
      "metadata": {
        "id": "Jz9qzImjeaj3"
      },
      "source": [
        "Based on Three conditions"
      ]
    },
    {
      "cell_type": "code",
      "metadata": {
        "colab": {
          "base_uri": "https://localhost:8080/",
          "height": 80
        },
        "id": "wqHRgm8kedVA",
        "outputId": "3a08c42f-fe24-4357-ffbc-eb1b3452b9b8"
      },
      "source": [
        "movies_df[\n",
        "    ((movies_df['Year'] >= 2005) & (movies_df['Year'] <= 2010))\n",
        "    & (movies_df['Rating'] > 8.0)\n",
        "    & (movies_df['Director'] == \"Ridley Scott\") \n",
        "]"
      ],
      "execution_count": 96,
      "outputs": [
        {
          "output_type": "execute_result",
          "data": {
            "text/html": [
              "<div>\n",
              "<style scoped>\n",
              "    .dataframe tbody tr th:only-of-type {\n",
              "        vertical-align: middle;\n",
              "    }\n",
              "\n",
              "    .dataframe tbody tr th {\n",
              "        vertical-align: top;\n",
              "    }\n",
              "\n",
              "    .dataframe thead th {\n",
              "        text-align: right;\n",
              "    }\n",
              "</style>\n",
              "<table border=\"1\" class=\"dataframe\">\n",
              "  <thead>\n",
              "    <tr style=\"text-align: right;\">\n",
              "      <th></th>\n",
              "      <th>Rank</th>\n",
              "      <th>Genre</th>\n",
              "      <th>Description</th>\n",
              "      <th>Director</th>\n",
              "      <th>Stars</th>\n",
              "      <th>Year</th>\n",
              "      <th>Runtime (Minutes)</th>\n",
              "      <th>Rating</th>\n",
              "      <th>Votes</th>\n",
              "      <th>Collections</th>\n",
              "      <th>Metascore</th>\n",
              "    </tr>\n",
              "    <tr>\n",
              "      <th>Title</th>\n",
              "      <th></th>\n",
              "      <th></th>\n",
              "      <th></th>\n",
              "      <th></th>\n",
              "      <th></th>\n",
              "      <th></th>\n",
              "      <th></th>\n",
              "      <th></th>\n",
              "      <th></th>\n",
              "      <th></th>\n",
              "      <th></th>\n",
              "    </tr>\n",
              "  </thead>\n",
              "  <tbody>\n",
              "  </tbody>\n",
              "</table>\n",
              "</div>"
            ],
            "text/plain": [
              "Empty DataFrame\n",
              "Columns: [Rank, Genre, Description, Director, Stars, Year, Runtime (Minutes), Rating, Votes, Collections, Metascore]\n",
              "Index: []"
            ]
          },
          "metadata": {
            "tags": []
          },
          "execution_count": 96
        }
      ]
    },
    {
      "cell_type": "markdown",
      "metadata": {
        "id": "YxZT3rM1fI2D"
      },
      "source": [
        "Importing\n"
      ]
    },
    {
      "cell_type": "code",
      "metadata": {
        "id": "mpY4F2ZEfSXG"
      },
      "source": [
        "import matplotlib.pyplot as plt\n",
        "plt.rcParams.update({'font.size': 20, 'figure.figsize': (10, 8)})"
      ],
      "execution_count": 98,
      "outputs": []
    },
    {
      "cell_type": "markdown",
      "metadata": {
        "id": "zJkk0H4Hfalk"
      },
      "source": [
        "Revenue Vs RAting Graph"
      ]
    },
    {
      "cell_type": "code",
      "metadata": {
        "colab": {
          "base_uri": "https://localhost:8080/",
          "height": 540
        },
        "id": "MIOEnZw9fd0s",
        "outputId": "691c295e-60e3-42e6-ba08-d66064f0dc18"
      },
      "source": [
        "movies_df.plot(kind='scatter', x='Rating', y='Collections', title='Collections vs Rating');"
      ],
      "execution_count": 100,
      "outputs": [
        {
          "output_type": "display_data",
          "data": {
            "image/png": "[encoded data removed]",
            "text/plain": [
              "<Figure size 720x576 with 1 Axes>"
            ]
          },
          "metadata": {
            "tags": [],
            "needs_background": "light"
          }
        }
      ]
    },
    {
      "cell_type": "code",
      "metadata": {
        "colab": {
          "base_uri": "https://localhost:8080/",
          "height": 517
        },
        "id": "CjiqQmfKfym9",
        "outputId": "4323e15a-86a1-498f-ba6e-9126ae7050cd"
      },
      "source": [
        "movies_df['Rating'].plot(kind='hist', title='Rating');"
      ],
      "execution_count": 101,
      "outputs": [
        {
          "output_type": "display_data",
          "data": {
            "image/png": "[encoded data removed]",
            "text/plain": [
              "<Figure size 720x576 with 1 Axes>"
            ]
          },
          "metadata": {
            "tags": [],
            "needs_background": "light"
          }
        }
      ]
    },
    {
      "cell_type": "code",
      "metadata": {
        "colab": {
          "base_uri": "https://localhost:8080/",
          "height": 492
        },
        "id": "plu4okzXf1VO",
        "outputId": "74ab4aba-ae84-4aac-d40c-c4a991369fce"
      },
      "source": [
        "movies_df['Rating'].plot(kind=\"box\");"
      ],
      "execution_count": 102,
      "outputs": [
        {
          "output_type": "display_data",
          "data": {
            "image/png": "[encoded data removed]",
            "text/plain": [
              "<Figure size 720x576 with 1 Axes>"
            ]
          },
          "metadata": {
            "tags": [],
            "needs_background": "light"
          }
        }
      ]
    }
  ]
}