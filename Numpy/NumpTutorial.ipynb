{
  "nbformat": 4,
  "nbformat_minor": 0,
  "metadata": {
    "colab": {
      "name": "NumpTutorial.ipynb",
      "provenance": [],
      "collapsed_sections": [],
      "authorship_tag": "ABX9TyPSRcUwROdcfxlD8JKPcF2z",
      "include_colab_link": true
    },
    "kernelspec": {
      "name": "python3",
      "display_name": "Python 3"
    },
    "language_info": {
      "name": "python"
    }
  },
  "cells": [
    {
      "cell_type": "markdown",
      "metadata": {
        "id": "view-in-github",
        "colab_type": "text"
      },
      "source": [
        "<a href=\"https://colab.research.google.com/github/mohithsairamreddy/AI-Amrita/blob/master/Numpy/NumpTutorial.ipynb\" target=\"_parent\"><img src=\"https://colab.research.google.com/assets/colab-badge.svg\" alt=\"Open In Colab\"/></a>"
      ]
    },
    {
      "cell_type": "markdown",
      "metadata": {
        "id": "yRrzCcNCFZDa"
      },
      "source": [
        "Importing Numpy"
      ]
    },
    {
      "cell_type": "code",
      "metadata": {
        "id": "Jf9IWai5Fb5K"
      },
      "source": [
        "import numpy as np"
      ],
      "execution_count": null,
      "outputs": []
    },
    {
      "cell_type": "markdown",
      "metadata": {
        "id": "J3yNd3q2Fk4h"
      },
      "source": [
        "Create array in np to use in python list"
      ]
    },
    {
      "cell_type": "code",
      "metadata": {
        "colab": {
          "base_uri": "https://localhost:8080/"
        },
        "id": "l4s-5-ajFyIp",
        "outputId": "155752f9-c6e5-4aa2-8fd4-bf4b5b378929"
      },
      "source": [
        "mylist=[1,2,3,4,5]\n",
        "print(mylist)"
      ],
      "execution_count": null,
      "outputs": [
        {
          "output_type": "stream",
          "text": [
            "[1, 2, 3, 4, 5]\n"
          ],
          "name": "stdout"
        }
      ]
    },
    {
      "cell_type": "markdown",
      "metadata": {
        "id": "Ix8779pSF6Da"
      },
      "source": [
        "To convert python list to Numpy array"
      ]
    },
    {
      "cell_type": "code",
      "metadata": {
        "colab": {
          "base_uri": "https://localhost:8080/"
        },
        "id": "x307PPUtGJFp",
        "outputId": "f3b3fc1c-c085-4b7c-aff7-a1c55781a051"
      },
      "source": [
        "numpy_array=np.array(mylist)\n",
        "numpy_array"
      ],
      "execution_count": null,
      "outputs": [
        {
          "output_type": "execute_result",
          "data": {
            "text/plain": [
              "array([1, 2, 3, 4, 5])"
            ]
          },
          "metadata": {
            "tags": []
          },
          "execution_count": 4
        }
      ]
    },
    {
      "cell_type": "code",
      "metadata": {
        "colab": {
          "base_uri": "https://localhost:8080/"
        },
        "id": "pZMS0c0XM_NB",
        "outputId": "27428f35-0800-40ec-cac0-9385db952c6d"
      },
      "source": [
        "a  = np.array([1,2,3,4])\n",
        "print(a)"
      ],
      "execution_count": null,
      "outputs": [
        {
          "output_type": "stream",
          "text": [
            "[1 2 3 4]\n"
          ],
          "name": "stdout"
        }
      ]
    },
    {
      "cell_type": "markdown",
      "metadata": {
        "id": "-YXBiZyTNNjv"
      },
      "source": [
        "Addition to array"
      ]
    },
    {
      "cell_type": "code",
      "metadata": {
        "colab": {
          "base_uri": "https://localhost:8080/"
        },
        "id": "5P1hf_k8NC0x",
        "outputId": "a80338a1-d67b-4515-afd8-9430194522dc"
      },
      "source": [
        "m=numpy_array+10\n",
        "print(m)"
      ],
      "execution_count": null,
      "outputs": [
        {
          "output_type": "stream",
          "text": [
            "[11 12 13 14 15]\n"
          ],
          "name": "stdout"
        }
      ]
    },
    {
      "cell_type": "markdown",
      "metadata": {
        "id": "6ERfFIOtNkQK"
      },
      "source": [
        "Shape of Array"
      ]
    },
    {
      "cell_type": "code",
      "metadata": {
        "colab": {
          "base_uri": "https://localhost:8080/"
        },
        "id": "CrvahpxONnWx",
        "outputId": "cc1a95ba-58ae-445c-c30c-38c40fa5aa20"
      },
      "source": [
        "m=np.array([1,2,3,4])\n",
        "print(m.shape)"
      ],
      "execution_count": null,
      "outputs": [
        {
          "output_type": "stream",
          "text": [
            "(4,)\n"
          ],
          "name": "stdout"
        }
      ]
    },
    {
      "cell_type": "markdown",
      "metadata": {
        "id": "KvLgelBrOSvZ"
      },
      "source": [
        "Example1 of data shape of array(two deminsional)"
      ]
    },
    {
      "cell_type": "code",
      "metadata": {
        "colab": {
          "base_uri": "https://localhost:8080/"
        },
        "id": "749pl9duOXEq",
        "outputId": "0f4af941-fe9d-46d6-e181-3687ceb4d7b4"
      },
      "source": [
        "d = np.array([\n",
        "    [[1, 2,3],\n",
        "        [4, 5, 6]],\n",
        "    [[7, 8,9],\n",
        "        [10, 11, 12]]\n",
        "])\n",
        "print(d.shape)"
      ],
      "execution_count": null,
      "outputs": [
        {
          "output_type": "stream",
          "text": [
            "(2, 2, 3)\n"
          ],
          "name": "stdout"
        }
      ]
    },
    {
      "cell_type": "markdown",
      "metadata": {
        "id": "QvcxLL-aOzdY"
      },
      "source": [
        "Example2 of data shape of array(three deminsional)"
      ]
    },
    {
      "cell_type": "code",
      "metadata": {
        "colab": {
          "base_uri": "https://localhost:8080/"
        },
        "id": "adTaMYmAO3dS",
        "outputId": "52e09956-944c-4ab1-8837-7e8bce1d8057"
      },
      "source": [
        "c = np.array([(1,2,3),\n",
        "              (4,5,6)])\n",
        "print(c.shape)"
      ],
      "execution_count": null,
      "outputs": [
        {
          "output_type": "stream",
          "text": [
            "(2, 3)\n"
          ],
          "name": "stdout"
        }
      ]
    },
    {
      "cell_type": "code",
      "metadata": {
        "id": "PI2JacSiNy2x"
      },
      "source": [
        "Data type of array"
      ],
      "execution_count": null,
      "outputs": []
    },
    {
      "cell_type": "code",
      "metadata": {
        "colab": {
          "base_uri": "https://localhost:8080/"
        },
        "id": "EgtMuZZuN6mZ",
        "outputId": "219ae371-1435-4a21-bfc9-f83b56c5885c"
      },
      "source": [
        "m=np.array([1,2,3,4])\n",
        "print(m.dtype)"
      ],
      "execution_count": null,
      "outputs": [
        {
          "output_type": "stream",
          "text": [
            "int64\n"
          ],
          "name": "stdout"
        }
      ]
    },
    {
      "cell_type": "markdown",
      "metadata": {
        "id": "6YiTubbsQ__1"
      },
      "source": [
        "Null matrix "
      ]
    },
    {
      "cell_type": "code",
      "metadata": {
        "colab": {
          "base_uri": "https://localhost:8080/"
        },
        "id": "YJDO0YYrRCcU",
        "outputId": "17384a3c-177f-4b21-83ca-bce641580272"
      },
      "source": [
        "import numpy as np\n",
        "x=np.zeros((3,3), dtype=np.int16,order='C')\n",
        "print(x)"
      ],
      "execution_count": null,
      "outputs": [
        {
          "output_type": "stream",
          "text": [
            "[[0 0 0]\n",
            " [0 0 0]\n",
            " [0 0 0]]\n"
          ],
          "name": "stdout"
        }
      ]
    },
    {
      "cell_type": "markdown",
      "metadata": {
        "id": "l1eaQ9uQRpFu"
      },
      "source": [
        "Reshaping Data"
      ]
    },
    {
      "cell_type": "code",
      "metadata": {
        "id": "Bmip_JZfRuyE",
        "colab": {
          "base_uri": "https://localhost:8080/"
        },
        "outputId": "633b3bff-26b1-469e-9100-4c342a71e37e"
      },
      "source": [
        "import numpy as np\n",
        "e  = np.array([(1,2,3), (4,5,6)])\n",
        "print(e)\n"
      ],
      "execution_count": null,
      "outputs": [
        {
          "output_type": "stream",
          "text": [
            "[[1 2 3]\n",
            " [4 5 6]]\n"
          ],
          "name": "stdout"
        }
      ]
    },
    {
      "cell_type": "code",
      "metadata": {
        "colab": {
          "base_uri": "https://localhost:8080/"
        },
        "id": "xSl8gdBL0puo",
        "outputId": "e6494fcc-0314-479a-c589-aa3d95e044fa"
      },
      "source": [
        "e.reshape(3,2)"
      ],
      "execution_count": null,
      "outputs": [
        {
          "output_type": "execute_result",
          "data": {
            "text/plain": [
              "array([[1, 2],\n",
              "       [3, 4],\n",
              "       [5, 6]])"
            ]
          },
          "metadata": {
            "tags": []
          },
          "execution_count": 2
        }
      ]
    },
    {
      "cell_type": "markdown",
      "metadata": {
        "id": "E_46rV840wqA"
      },
      "source": [
        "Flatten Array"
      ]
    },
    {
      "cell_type": "code",
      "metadata": {
        "colab": {
          "base_uri": "https://localhost:8080/"
        },
        "id": "yxAu9SF30zKP",
        "outputId": "3ebac6b3-18ac-45fb-d203-5e87274c10a1"
      },
      "source": [
        "m  = np.array([(1,2,3),(4,5,6),(7,8,9),(10,11,12)])\n",
        "m.flatten()"
      ],
      "execution_count": null,
      "outputs": [
        {
          "output_type": "execute_result",
          "data": {
            "text/plain": [
              "array([ 1,  2,  3,  4,  5,  6,  7,  8,  9, 10, 11, 12])"
            ]
          },
          "metadata": {
            "tags": []
          },
          "execution_count": 4
        }
      ]
    },
    {
      "cell_type": "markdown",
      "metadata": {
        "id": "mVboCpSP3BaP"
      },
      "source": [
        "horizontal Append"
      ]
    },
    {
      "cell_type": "code",
      "metadata": {
        "colab": {
          "base_uri": "https://localhost:8080/"
        },
        "id": "mAcF2ZWw3DQX",
        "outputId": "c5dd3d67-9251-468d-ef06-12e50d7d5a93"
      },
      "source": [
        "import numpy as np\n",
        "m =np.array([1,2,3])\n",
        "n =np.array([4,5,6])\n",
        "o =np.array([7,8,9])\n",
        "\n",
        "print( np.hstack((m,n,o)))"
      ],
      "execution_count": null,
      "outputs": [
        {
          "output_type": "stream",
          "text": [
            "[1 2 3 4 5 6 7 8 9]\n"
          ],
          "name": "stdout"
        }
      ]
    },
    {
      "cell_type": "markdown",
      "metadata": {
        "id": "lFKZP3pqpIGR"
      },
      "source": [
        "Vertical Append"
      ]
    },
    {
      "cell_type": "code",
      "metadata": {
        "colab": {
          "base_uri": "https://localhost:8080/"
        },
        "id": "YnN93FLdpKX4",
        "outputId": "edb0b403-6e1f-455b-a185-b3dfe1fcc7dc"
      },
      "source": [
        "import numpy as np\n",
        "m =np.array([1,2,3])\n",
        "n =np.array([4,5,6])\n",
        "o =np.array([7,8,9])\n",
        "\n",
        "print( np.vstack((m,n,o)))"
      ],
      "execution_count": null,
      "outputs": [
        {
          "output_type": "stream",
          "text": [
            "[[1 2 3]\n",
            " [4 5 6]\n",
            " [7 8 9]]\n"
          ],
          "name": "stdout"
        }
      ]
    },
    {
      "cell_type": "markdown",
      "metadata": {
        "id": "PtMdAbIPpUYf"
      },
      "source": [
        "Generating random numbers\n",
        "\n",
        "\n",
        "```\n",
        "# numpy.random.normal(loc, scale, size)\n",
        "```\n",
        "\n",
        "\n"
      ]
    },
    {
      "cell_type": "code",
      "metadata": {
        "colab": {
          "base_uri": "https://localhost:8080/"
        },
        "id": "6suyhZw8pXrf",
        "outputId": "5ab49f25-2950-4418-e74d-3aef2883644e"
      },
      "source": [
        "random_array = np.random.normal(8,3.5,10)\n",
        "print(random_array)\t"
      ],
      "execution_count": null,
      "outputs": [
        {
          "output_type": "stream",
          "text": [
            "[ 4.17781749 11.66247861 10.12629478  7.54893448  3.44162796 14.26436693\n",
            "  5.11815234 10.56964805  9.48110739 13.22637237]\n"
          ],
          "name": "stdout"
        }
      ]
    },
    {
      "cell_type": "markdown",
      "metadata": {
        "id": "ZqJgF9aEqdOY"
      },
      "source": [
        "Generating a array in a sequence"
      ]
    },
    {
      "cell_type": "code",
      "metadata": {
        "colab": {
          "base_uri": "https://localhost:8080/"
        },
        "id": "abopuFhmqgZ_",
        "outputId": "03871bf5-08d8-4b77-e6dc-40586b799940"
      },
      "source": [
        "np.arange(15,25)"
      ],
      "execution_count": null,
      "outputs": [
        {
          "output_type": "execute_result",
          "data": {
            "text/plain": [
              "array([15, 16, 17, 18, 19, 20, 21, 22, 23, 24])"
            ]
          },
          "metadata": {
            "tags": []
          },
          "execution_count": 13
        }
      ]
    },
    {
      "cell_type": "markdown",
      "metadata": {
        "id": "ePx4TJ-dsGCp"
      },
      "source": [
        "Generating array in sequence with a deviation\n",
        "\n",
        "\n",
        "```\n",
        "numpy.arange(start, stop,deviation)\n",
        "```\n",
        "\n"
      ]
    },
    {
      "cell_type": "code",
      "metadata": {
        "colab": {
          "base_uri": "https://localhost:8080/"
        },
        "id": "2UP68kjFq_76",
        "outputId": "75369eb6-1038-47d5-b650-e933eede5c7a"
      },
      "source": [
        "np.arange(15,35,3)\t"
      ],
      "execution_count": null,
      "outputs": [
        {
          "output_type": "execute_result",
          "data": {
            "text/plain": [
              "array([15, 18, 21, 24, 27, 30, 33])"
            ]
          },
          "metadata": {
            "tags": []
          },
          "execution_count": 15
        }
      ]
    },
    {
      "cell_type": "markdown",
      "metadata": {
        "id": "zgc1DaSuscAm"
      },
      "source": [
        "Line spaces"
      ]
    },
    {
      "cell_type": "code",
      "metadata": {
        "colab": {
          "base_uri": "https://localhost:8080/"
        },
        "id": "4wOLweAh4Q8m",
        "outputId": "b716eebd-203a-469e-e639-5ef670dfad3b"
      },
      "source": [
        "import numpy as np\n",
        "np.linspace(1.0, 10.0, num=20)"
      ],
      "execution_count": null,
      "outputs": [
        {
          "output_type": "execute_result",
          "data": {
            "text/plain": [
              "array([ 1.        ,  1.47368421,  1.94736842,  2.42105263,  2.89473684,\n",
              "        3.36842105,  3.84210526,  4.31578947,  4.78947368,  5.26315789,\n",
              "        5.73684211,  6.21052632,  6.68421053,  7.15789474,  7.63157895,\n",
              "        8.10526316,  8.57894737,  9.05263158,  9.52631579, 10.        ])"
            ]
          },
          "metadata": {
            "tags": []
          },
          "execution_count": 16
        }
      ]
    },
    {
      "cell_type": "markdown",
      "metadata": {
        "id": "Wt2QcLx84Y86"
      },
      "source": [
        "Log Space"
      ]
    },
    {
      "cell_type": "code",
      "metadata": {
        "colab": {
          "base_uri": "https://localhost:8080/"
        },
        "id": "-3t88-EI4hp9",
        "outputId": "c5b8b29a-18eb-48e2-8d26-e831689be8ee"
      },
      "source": [
        "np.logspace(3.0, 4.0, num=4)"
      ],
      "execution_count": null,
      "outputs": [
        {
          "output_type": "execute_result",
          "data": {
            "text/plain": [
              "array([ 1000.        ,  2154.43469003,  4641.58883361, 10000.        ])"
            ]
          },
          "metadata": {
            "tags": []
          },
          "execution_count": 17
        }
      ]
    },
    {
      "cell_type": "code",
      "metadata": {
        "colab": {
          "base_uri": "https://localhost:8080/"
        },
        "id": "4zp1o38S5YRv",
        "outputId": "cfe7619b-96c5-4451-ae0a-f8667344f8cb"
      },
      "source": [
        "x = np.array([1,2,3], dtype=np.complex128)\n",
        "x.itemsize\t"
      ],
      "execution_count": null,
      "outputs": [
        {
          "output_type": "execute_result",
          "data": {
            "text/plain": [
              "16"
            ]
          },
          "metadata": {
            "tags": []
          },
          "execution_count": 18
        }
      ]
    },
    {
      "cell_type": "markdown",
      "metadata": {
        "id": "34qYZM-r5cQ0"
      },
      "source": [
        "Slicing"
      ]
    },
    {
      "cell_type": "code",
      "metadata": {
        "colab": {
          "base_uri": "https://localhost:8080/"
        },
        "id": "XluCzsW95dzM",
        "outputId": "ddbd1766-665a-4cea-8f82-d98837542bb4"
      },
      "source": [
        "import numpy as np\n",
        "print(m)\n",
        "\n"
      ],
      "execution_count": null,
      "outputs": [
        {
          "output_type": "stream",
          "text": [
            "[[ 1  2  3]\n",
            " [ 4  5  6]\n",
            " [ 7  8  9]\n",
            " [10 11 12]]\n"
          ],
          "name": "stdout"
        }
      ]
    },
    {
      "cell_type": "markdown",
      "metadata": {
        "id": "bmpSw1aX7DvL"
      },
      "source": [
        "Acessing according to rows"
      ]
    },
    {
      "cell_type": "code",
      "metadata": {
        "colab": {
          "base_uri": "https://localhost:8080/"
        },
        "id": "ZtJHZO3y7UMF",
        "outputId": "11a0f20a-c92f-469d-cb67-069fbedf42cc"
      },
      "source": [
        "print('First row:',m[0])\n",
        "print('Third row:',m[2])"
      ],
      "execution_count": null,
      "outputs": [
        {
          "output_type": "stream",
          "text": [
            "First row: [1 2 3]\n",
            "Third row: [7 8 9]\n"
          ],
          "name": "stdout"
        }
      ]
    },
    {
      "cell_type": "markdown",
      "metadata": {
        "id": "Iwzuyzaw8Gs9"
      },
      "source": [
        "Acessing according to Columns"
      ]
    },
    {
      "cell_type": "code",
      "metadata": {
        "colab": {
          "base_uri": "https://localhost:8080/"
        },
        "id": "MrmOgKVY8J5Y",
        "outputId": "70def7e8-e558-4217-b59e-77f05264e528"
      },
      "source": [
        "print('First Column:',m[:,0])\n",
        "print('Third Column:',m[:,2])"
      ],
      "execution_count": null,
      "outputs": [
        {
          "output_type": "stream",
          "text": [
            "First Column: [ 1  4  7 10]\n",
            "Third Column: [ 3  6  9 12]\n"
          ],
          "name": "stdout"
        }
      ]
    },
    {
      "cell_type": "markdown",
      "metadata": {
        "id": "okk06-jl8kT9"
      },
      "source": [
        "Acessing two n values in a rows"
      ]
    },
    {
      "cell_type": "code",
      "metadata": {
        "colab": {
          "base_uri": "https://localhost:8080/"
        },
        "id": "1_KNnxz_8yFf",
        "outputId": "d6de8901-703d-462a-f687-d16b7a6a7a2e"
      },
      "source": [
        "print(m[1, :2])"
      ],
      "execution_count": null,
      "outputs": [
        {
          "output_type": "stream",
          "text": [
            "[4 5]\n"
          ],
          "name": "stdout"
        }
      ]
    },
    {
      "cell_type": "markdown",
      "metadata": {
        "id": "gx1C4GOo86U8"
      },
      "source": [
        "Acessing two values in Column"
      ]
    },
    {
      "cell_type": "code",
      "metadata": {
        "colab": {
          "base_uri": "https://localhost:8080/"
        },
        "id": "X4mA1Ame9Bz0",
        "outputId": "f62bd1e7-7425-424b-906b-cdc125829092"
      },
      "source": [
        "print(m[:2,1])"
      ],
      "execution_count": null,
      "outputs": [
        {
          "output_type": "stream",
          "text": [
            "[2 5]\n"
          ],
          "name": "stdout"
        }
      ]
    },
    {
      "cell_type": "markdown",
      "metadata": {
        "id": "6I1-jzvi9j_f"
      },
      "source": [
        "Minimun,Maximum,Mean,Median,Standard Deviation"
      ]
    },
    {
      "cell_type": "code",
      "metadata": {
        "colab": {
          "base_uri": "https://localhost:8080/"
        },
        "id": "9V9TxDxD9zmO",
        "outputId": "6d4f7c11-e94d-4642-adf6-5573dba81b05"
      },
      "source": [
        "import numpy as np\n",
        "normal_array =np.random.normal(8,3.5,10)\n",
        "print(normal_array)\t"
      ],
      "execution_count": null,
      "outputs": [
        {
          "output_type": "stream",
          "text": [
            "[11.82897476  2.77887255  4.42233318  8.31879167  5.24921454  4.88491225\n",
            "  8.25069014  5.2785093   7.56399447  7.22864051]\n"
          ],
          "name": "stdout"
        }
      ]
    },
    {
      "cell_type": "code",
      "metadata": {
        "colab": {
          "base_uri": "https://localhost:8080/"
        },
        "id": "jqcIByp3-LIe",
        "outputId": "191f0161-45ab-4aeb-a031-cffb691c3204"
      },
      "source": [
        "### Min \n",
        "print(np.min(normal_array))\n",
        "\n",
        "### Max \n",
        "print(np.max(normal_array))\n",
        "\n",
        "### Mean \n",
        "print(np.mean(normal_array))\n",
        "\n",
        "### Median\n",
        "print(np.median(normal_array))\n",
        "\n",
        "### Sd\n",
        "print(np.std(normal_array))"
      ],
      "execution_count": null,
      "outputs": [
        {
          "output_type": "stream",
          "text": [
            "2.7788725519329045\n",
            "11.828974763725553\n",
            "6.580493337415295\n",
            "6.253574902763659\n",
            "2.45351995614224\n"
          ],
          "name": "stdout"
        }
      ]
    },
    {
      "cell_type": "markdown",
      "metadata": {
        "id": "mqjZQJ1i-UUs"
      },
      "source": [
        "Dot Product"
      ]
    },
    {
      "cell_type": "code",
      "metadata": {
        "colab": {
          "base_uri": "https://localhost:8080/"
        },
        "id": "68I9MUtQ-WfU",
        "outputId": "4280ada1-a7ac-459a-84da-5e4ac76259d0"
      },
      "source": [
        "f=np.array([1,2])\n",
        "g=np.array([7,8])\n",
        "np.dot(f,g)"
      ],
      "execution_count": null,
      "outputs": [
        {
          "output_type": "execute_result",
          "data": {
            "text/plain": [
              "23"
            ]
          },
          "metadata": {
            "tags": []
          },
          "execution_count": 4
        }
      ]
    },
    {
      "cell_type": "markdown",
      "metadata": {
        "id": "0TkEaE3V6huV"
      },
      "source": [
        "Matrix multiplication\n"
      ]
    },
    {
      "cell_type": "code",
      "metadata": {
        "colab": {
          "base_uri": "https://localhost:8080/"
        },
        "id": "v4dmIHq16m5l",
        "outputId": "8a04e673-85e5-4fb6-d028-5e54d0e90850"
      },
      "source": [
        "h = [[1,2],[3,4]] \n",
        "i = [[5,6],[7,8]] \n",
        "np.matmul(h, i)"
      ],
      "execution_count": null,
      "outputs": [
        {
          "output_type": "execute_result",
          "data": {
            "text/plain": [
              "array([[19, 22],\n",
              "       [43, 50]])"
            ]
          },
          "metadata": {
            "tags": []
          },
          "execution_count": 5
        }
      ]
    },
    {
      "cell_type": "markdown",
      "metadata": {
        "id": "L4Zcegsp6uj-"
      },
      "source": [
        "Inverse of Matrix"
      ]
    },
    {
      "cell_type": "code",
      "metadata": {
        "colab": {
          "base_uri": "https://localhost:8080/"
        },
        "id": "4L35R6lt6xSE",
        "outputId": "b3216faa-3742-4037-e1bb-769d800bce49"
      },
      "source": [
        "E= np.array([(1,2), (4,5)])\n",
        "print(np.linalg.inv(E))"
      ],
      "execution_count": null,
      "outputs": [
        {
          "output_type": "stream",
          "text": [
            "[[-1.66666667  0.66666667]\n",
            " [ 1.33333333 -0.33333333]]\n"
          ],
          "name": "stdout"
        }
      ]
    },
    {
      "cell_type": "markdown",
      "metadata": {
        "id": "jrGgBTMN7a_W"
      },
      "source": [
        "Detrminant of Matrix"
      ]
    },
    {
      "cell_type": "code",
      "metadata": {
        "colab": {
          "base_uri": "https://localhost:8080/"
        },
        "id": "jZ7QByJt7fuM",
        "outputId": "c9c1b955-5acf-4027-f171-6f79ca3ec30d"
      },
      "source": [
        "E= np.array([(1,2), (4,5)])\n",
        "print(np.linalg.det(E))\n"
      ],
      "execution_count": null,
      "outputs": [
        {
          "output_type": "stream",
          "text": [
            "-2.9999999999999996\n"
          ],
          "name": "stdout"
        }
      ]
    },
    {
      "cell_type": "markdown",
      "metadata": {
        "id": "IPVQ3hnr8Dlt"
      },
      "source": [
        "Detrminant of Matrix in Integer"
      ]
    },
    {
      "cell_type": "code",
      "metadata": {
        "colab": {
          "base_uri": "https://localhost:8080/"
        },
        "id": "jcKYwTs78Hbc",
        "outputId": "fe3c391b-42e6-49bd-dd8c-eadc9c8684c3"
      },
      "source": [
        "E= np.array([(1,2), (4,5)])\n",
        "print(int(np.linalg.det(E)))"
      ],
      "execution_count": null,
      "outputs": [
        {
          "output_type": "stream",
          "text": [
            "-2\n"
          ],
          "name": "stdout"
        }
      ]
    },
    {
      "cell_type": "markdown",
      "metadata": {
        "id": "c3ZYvFUb8SYN"
      },
      "source": [
        "Rank of Matrix"
      ]
    },
    {
      "cell_type": "code",
      "metadata": {
        "colab": {
          "base_uri": "https://localhost:8080/"
        },
        "id": "hYPHU7JZ8YbU",
        "outputId": "4089ff45-67b1-4ae4-b592-8686fcf9591b"
      },
      "source": [
        "mx = np.array([[1,1,1],[0,1,2],[1,5,3]])\n",
        "np.linalg.matrix_rank(mx)"
      ],
      "execution_count": null,
      "outputs": [
        {
          "output_type": "execute_result",
          "data": {
            "text/plain": [
              "3"
            ]
          },
          "metadata": {
            "tags": []
          },
          "execution_count": 16
        }
      ]
    },
    {
      "cell_type": "markdown",
      "metadata": {
        "id": "YttzmuHQ9y2a"
      },
      "source": [
        "Eigenvectors And Eigenvalue"
      ]
    },
    {
      "cell_type": "code",
      "metadata": {
        "colab": {
          "base_uri": "https://localhost:8080/"
        },
        "id": "-xI6hWeJ-GDF",
        "outputId": "cf5c76de-4a38-449e-f64f-93cc89126b1a"
      },
      "source": [
        "example_matrix = np.array([\n",
        "  [1,2,3,4],\n",
        "  [5,6,7,8],\n",
        "  [9,10,11,12],\n",
        "  [13,14,15,16]\n",
        "])\n",
        "eigenvalues, eigenvectors = np.linalg.eig(example_matrix)\n",
        "print(eigenvalues, eigenvectors)"
      ],
      "execution_count": null,
      "outputs": [
        {
          "output_type": "stream",
          "text": [
            "[ 3.62093727e+01 -2.20937271e+00 -5.14138333e-16 -2.08943529e-15] [[-0.15115432 -0.72704996  0.01790738 -0.26832672]\n",
            " [-0.34923733 -0.28320876  0.38415354  0.71367217]\n",
            " [-0.54732033  0.16063243 -0.82202921 -0.62236419]\n",
            " [-0.74540333  0.60447363  0.41996829  0.17701873]]\n"
          ],
          "name": "stdout"
        }
      ]
    },
    {
      "cell_type": "markdown",
      "metadata": {
        "id": "7CtEpMI1-Kct"
      },
      "source": [
        " diagonal of a matrix"
      ]
    },
    {
      "cell_type": "code",
      "metadata": {
        "colab": {
          "base_uri": "https://localhost:8080/"
        },
        "id": "uUtikE9r-NxA",
        "outputId": "6bf9aaba-4800-482a-cec9-9a04c2ee626b"
      },
      "source": [
        "gfg = np.matrix('[6, 2; 3, 4]')\n",
        "diag = gfg.diagonal()\n",
        "   \n",
        "print(diag)"
      ],
      "execution_count": null,
      "outputs": [
        {
          "output_type": "stream",
          "text": [
            "[[6 4]]\n"
          ],
          "name": "stdout"
        }
      ]
    },
    {
      "cell_type": "markdown",
      "metadata": {
        "id": "TPGihtfl-fPv"
      },
      "source": [
        "Matrix transpose"
      ]
    },
    {
      "cell_type": "code",
      "metadata": {
        "colab": {
          "base_uri": "https://localhost:8080/"
        },
        "id": "JjCqEFuK-hbA",
        "outputId": "ff79f611-75bf-42d4-f814-d3be11009bfa"
      },
      "source": [
        "gfg = np.matrix('[4, 1; 12, 3]')\n",
        "trans = gfg.transpose() \n",
        "print(trans)"
      ],
      "execution_count": null,
      "outputs": [
        {
          "output_type": "stream",
          "text": [
            "[[ 4 12]\n",
            " [ 1  3]]\n"
          ],
          "name": "stdout"
        }
      ]
    },
    {
      "cell_type": "markdown",
      "metadata": {
        "id": "cTnr1R10-np4"
      },
      "source": [
        "Trace of a matrix"
      ]
    },
    {
      "cell_type": "code",
      "metadata": {
        "colab": {
          "base_uri": "https://localhost:8080/"
        },
        "id": "IV3fnutb-pw1",
        "outputId": "aaa45a9a-e688-4f04-faba-7dfff6dc551d"
      },
      "source": [
        "gfg = np.matrix('[4, 1; 12, 3]')\n",
        "tracem = gfg.trace()\n",
        "print(tracem)"
      ],
      "execution_count": null,
      "outputs": [
        {
          "output_type": "stream",
          "text": [
            "[[7]]\n"
          ],
          "name": "stdout"
        }
      ]
    }
  ]
}